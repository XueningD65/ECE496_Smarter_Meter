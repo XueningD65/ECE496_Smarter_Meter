{
  "nbformat": 4,
  "nbformat_minor": 0,
  "metadata": {
    "colab": {
      "name": "OCR_extract.ipynb",
      "provenance": [],
      "collapsed_sections": []
    },
    "kernelspec": {
      "name": "python3",
      "display_name": "Python 3"
    },
    "language_info": {
      "name": "python"
    },
    "accelerator": "GPU",
    "widgets": {
      "application/vnd.jupyter.widget-state+json": {
        "ec9d9d3d024742c09af86a8d61044a5a": {
          "model_module": "@jupyter-widgets/controls",
          "model_name": "HBoxModel",
          "model_module_version": "1.5.0",
          "state": {
            "_view_name": "HBoxView",
            "_dom_classes": [],
            "_model_name": "HBoxModel",
            "_view_module": "@jupyter-widgets/controls",
            "_model_module_version": "1.5.0",
            "_view_count": null,
            "_view_module_version": "1.5.0",
            "box_style": "",
            "layout": "IPY_MODEL_416059652bde439f85be0ad03cfec167",
            "_model_module": "@jupyter-widgets/controls",
            "children": [
              "IPY_MODEL_e0437fef26944360980953d49f1deccc",
              "IPY_MODEL_6d9c30e37da8454aaacde13d8aa90eab",
              "IPY_MODEL_131b3961825245078bb84e2ba923cb6c"
            ]
          }
        },
        "416059652bde439f85be0ad03cfec167": {
          "model_module": "@jupyter-widgets/base",
          "model_name": "LayoutModel",
          "model_module_version": "1.2.0",
          "state": {
            "_view_name": "LayoutView",
            "grid_template_rows": null,
            "right": null,
            "justify_content": null,
            "_view_module": "@jupyter-widgets/base",
            "overflow": null,
            "_model_module_version": "1.2.0",
            "_view_count": null,
            "flex_flow": null,
            "width": null,
            "min_width": null,
            "border": null,
            "align_items": null,
            "bottom": null,
            "_model_module": "@jupyter-widgets/base",
            "top": null,
            "grid_column": null,
            "overflow_y": null,
            "overflow_x": null,
            "grid_auto_flow": null,
            "grid_area": null,
            "grid_template_columns": null,
            "flex": null,
            "_model_name": "LayoutModel",
            "justify_items": null,
            "grid_row": null,
            "max_height": null,
            "align_content": null,
            "visibility": null,
            "align_self": null,
            "height": null,
            "min_height": null,
            "padding": null,
            "grid_auto_rows": null,
            "grid_gap": null,
            "max_width": null,
            "order": null,
            "_view_module_version": "1.2.0",
            "grid_template_areas": null,
            "object_position": null,
            "object_fit": null,
            "grid_auto_columns": null,
            "margin": null,
            "display": null,
            "left": null
          }
        },
        "e0437fef26944360980953d49f1deccc": {
          "model_module": "@jupyter-widgets/controls",
          "model_name": "HTMLModel",
          "model_module_version": "1.5.0",
          "state": {
            "_view_name": "HTMLView",
            "style": "IPY_MODEL_a2fd531284094e818f222677278eb870",
            "_dom_classes": [],
            "description": "",
            "_model_name": "HTMLModel",
            "placeholder": "​",
            "_view_module": "@jupyter-widgets/controls",
            "_model_module_version": "1.5.0",
            "value": "100%",
            "_view_count": null,
            "_view_module_version": "1.5.0",
            "description_tooltip": null,
            "_model_module": "@jupyter-widgets/controls",
            "layout": "IPY_MODEL_7063b6dfe704468c8be565d9b8466221"
          }
        },
        "6d9c30e37da8454aaacde13d8aa90eab": {
          "model_module": "@jupyter-widgets/controls",
          "model_name": "FloatProgressModel",
          "model_module_version": "1.5.0",
          "state": {
            "_view_name": "ProgressView",
            "style": "IPY_MODEL_7b441084b2ca4c62879cd31d9e55c9b6",
            "_dom_classes": [],
            "description": "",
            "_model_name": "FloatProgressModel",
            "bar_style": "success",
            "max": 244408911,
            "_view_module": "@jupyter-widgets/controls",
            "_model_module_version": "1.5.0",
            "value": 244408911,
            "_view_count": null,
            "_view_module_version": "1.5.0",
            "orientation": "horizontal",
            "min": 0,
            "description_tooltip": null,
            "_model_module": "@jupyter-widgets/controls",
            "layout": "IPY_MODEL_8f5c4f4ad39f430fa1750dafe6b4fe41"
          }
        },
        "131b3961825245078bb84e2ba923cb6c": {
          "model_module": "@jupyter-widgets/controls",
          "model_name": "HTMLModel",
          "model_module_version": "1.5.0",
          "state": {
            "_view_name": "HTMLView",
            "style": "IPY_MODEL_45bd4438b92448d0aa0f3154dfed2d4a",
            "_dom_classes": [],
            "description": "",
            "_model_name": "HTMLModel",
            "placeholder": "​",
            "_view_module": "@jupyter-widgets/controls",
            "_model_module_version": "1.5.0",
            "value": " 233M/233M [00:07&lt;00:00, 42.2MB/s]",
            "_view_count": null,
            "_view_module_version": "1.5.0",
            "description_tooltip": null,
            "_model_module": "@jupyter-widgets/controls",
            "layout": "IPY_MODEL_62e7b66027af4ed696f78326da8b73e5"
          }
        },
        "a2fd531284094e818f222677278eb870": {
          "model_module": "@jupyter-widgets/controls",
          "model_name": "DescriptionStyleModel",
          "model_module_version": "1.5.0",
          "state": {
            "_view_name": "StyleView",
            "_model_name": "DescriptionStyleModel",
            "description_width": "",
            "_view_module": "@jupyter-widgets/base",
            "_model_module_version": "1.5.0",
            "_view_count": null,
            "_view_module_version": "1.2.0",
            "_model_module": "@jupyter-widgets/controls"
          }
        },
        "7063b6dfe704468c8be565d9b8466221": {
          "model_module": "@jupyter-widgets/base",
          "model_name": "LayoutModel",
          "model_module_version": "1.2.0",
          "state": {
            "_view_name": "LayoutView",
            "grid_template_rows": null,
            "right": null,
            "justify_content": null,
            "_view_module": "@jupyter-widgets/base",
            "overflow": null,
            "_model_module_version": "1.2.0",
            "_view_count": null,
            "flex_flow": null,
            "width": null,
            "min_width": null,
            "border": null,
            "align_items": null,
            "bottom": null,
            "_model_module": "@jupyter-widgets/base",
            "top": null,
            "grid_column": null,
            "overflow_y": null,
            "overflow_x": null,
            "grid_auto_flow": null,
            "grid_area": null,
            "grid_template_columns": null,
            "flex": null,
            "_model_name": "LayoutModel",
            "justify_items": null,
            "grid_row": null,
            "max_height": null,
            "align_content": null,
            "visibility": null,
            "align_self": null,
            "height": null,
            "min_height": null,
            "padding": null,
            "grid_auto_rows": null,
            "grid_gap": null,
            "max_width": null,
            "order": null,
            "_view_module_version": "1.2.0",
            "grid_template_areas": null,
            "object_position": null,
            "object_fit": null,
            "grid_auto_columns": null,
            "margin": null,
            "display": null,
            "left": null
          }
        },
        "7b441084b2ca4c62879cd31d9e55c9b6": {
          "model_module": "@jupyter-widgets/controls",
          "model_name": "ProgressStyleModel",
          "model_module_version": "1.5.0",
          "state": {
            "_view_name": "StyleView",
            "_model_name": "ProgressStyleModel",
            "description_width": "",
            "_view_module": "@jupyter-widgets/base",
            "_model_module_version": "1.5.0",
            "_view_count": null,
            "_view_module_version": "1.2.0",
            "bar_color": null,
            "_model_module": "@jupyter-widgets/controls"
          }
        },
        "8f5c4f4ad39f430fa1750dafe6b4fe41": {
          "model_module": "@jupyter-widgets/base",
          "model_name": "LayoutModel",
          "model_module_version": "1.2.0",
          "state": {
            "_view_name": "LayoutView",
            "grid_template_rows": null,
            "right": null,
            "justify_content": null,
            "_view_module": "@jupyter-widgets/base",
            "overflow": null,
            "_model_module_version": "1.2.0",
            "_view_count": null,
            "flex_flow": null,
            "width": null,
            "min_width": null,
            "border": null,
            "align_items": null,
            "bottom": null,
            "_model_module": "@jupyter-widgets/base",
            "top": null,
            "grid_column": null,
            "overflow_y": null,
            "overflow_x": null,
            "grid_auto_flow": null,
            "grid_area": null,
            "grid_template_columns": null,
            "flex": null,
            "_model_name": "LayoutModel",
            "justify_items": null,
            "grid_row": null,
            "max_height": null,
            "align_content": null,
            "visibility": null,
            "align_self": null,
            "height": null,
            "min_height": null,
            "padding": null,
            "grid_auto_rows": null,
            "grid_gap": null,
            "max_width": null,
            "order": null,
            "_view_module_version": "1.2.0",
            "grid_template_areas": null,
            "object_position": null,
            "object_fit": null,
            "grid_auto_columns": null,
            "margin": null,
            "display": null,
            "left": null
          }
        },
        "45bd4438b92448d0aa0f3154dfed2d4a": {
          "model_module": "@jupyter-widgets/controls",
          "model_name": "DescriptionStyleModel",
          "model_module_version": "1.5.0",
          "state": {
            "_view_name": "StyleView",
            "_model_name": "DescriptionStyleModel",
            "description_width": "",
            "_view_module": "@jupyter-widgets/base",
            "_model_module_version": "1.5.0",
            "_view_count": null,
            "_view_module_version": "1.2.0",
            "_model_module": "@jupyter-widgets/controls"
          }
        },
        "62e7b66027af4ed696f78326da8b73e5": {
          "model_module": "@jupyter-widgets/base",
          "model_name": "LayoutModel",
          "model_module_version": "1.2.0",
          "state": {
            "_view_name": "LayoutView",
            "grid_template_rows": null,
            "right": null,
            "justify_content": null,
            "_view_module": "@jupyter-widgets/base",
            "overflow": null,
            "_model_module_version": "1.2.0",
            "_view_count": null,
            "flex_flow": null,
            "width": null,
            "min_width": null,
            "border": null,
            "align_items": null,
            "bottom": null,
            "_model_module": "@jupyter-widgets/base",
            "top": null,
            "grid_column": null,
            "overflow_y": null,
            "overflow_x": null,
            "grid_auto_flow": null,
            "grid_area": null,
            "grid_template_columns": null,
            "flex": null,
            "_model_name": "LayoutModel",
            "justify_items": null,
            "grid_row": null,
            "max_height": null,
            "align_content": null,
            "visibility": null,
            "align_self": null,
            "height": null,
            "min_height": null,
            "padding": null,
            "grid_auto_rows": null,
            "grid_gap": null,
            "max_width": null,
            "order": null,
            "_view_module_version": "1.2.0",
            "grid_template_areas": null,
            "object_position": null,
            "object_fit": null,
            "grid_auto_columns": null,
            "margin": null,
            "display": null,
            "left": null
          }
        },
        "f9340d3f8d184aa78e4aac88dcea5a84": {
          "model_module": "@jupyter-widgets/controls",
          "model_name": "HBoxModel",
          "model_module_version": "1.5.0",
          "state": {
            "_view_name": "HBoxView",
            "_dom_classes": [],
            "_model_name": "HBoxModel",
            "_view_module": "@jupyter-widgets/controls",
            "_model_module_version": "1.5.0",
            "_view_count": null,
            "_view_module_version": "1.5.0",
            "box_style": "",
            "layout": "IPY_MODEL_d3c3b97080d8400da0a63bb5d41446aa",
            "_model_module": "@jupyter-widgets/controls",
            "children": [
              "IPY_MODEL_6104abb418074dec80d3e4531e997ce3",
              "IPY_MODEL_7ae57a871cad408184ec41d829e48720",
              "IPY_MODEL_00bbd2f7d0284b67823eb0728b0d4026"
            ]
          }
        },
        "d3c3b97080d8400da0a63bb5d41446aa": {
          "model_module": "@jupyter-widgets/base",
          "model_name": "LayoutModel",
          "model_module_version": "1.2.0",
          "state": {
            "_view_name": "LayoutView",
            "grid_template_rows": null,
            "right": null,
            "justify_content": null,
            "_view_module": "@jupyter-widgets/base",
            "overflow": null,
            "_model_module_version": "1.2.0",
            "_view_count": null,
            "flex_flow": null,
            "width": null,
            "min_width": null,
            "border": null,
            "align_items": null,
            "bottom": null,
            "_model_module": "@jupyter-widgets/base",
            "top": null,
            "grid_column": null,
            "overflow_y": null,
            "overflow_x": null,
            "grid_auto_flow": null,
            "grid_area": null,
            "grid_template_columns": null,
            "flex": null,
            "_model_name": "LayoutModel",
            "justify_items": null,
            "grid_row": null,
            "max_height": null,
            "align_content": null,
            "visibility": null,
            "align_self": null,
            "height": null,
            "min_height": null,
            "padding": null,
            "grid_auto_rows": null,
            "grid_gap": null,
            "max_width": null,
            "order": null,
            "_view_module_version": "1.2.0",
            "grid_template_areas": null,
            "object_position": null,
            "object_fit": null,
            "grid_auto_columns": null,
            "margin": null,
            "display": null,
            "left": null
          }
        },
        "6104abb418074dec80d3e4531e997ce3": {
          "model_module": "@jupyter-widgets/controls",
          "model_name": "HTMLModel",
          "model_module_version": "1.5.0",
          "state": {
            "_view_name": "HTMLView",
            "style": "IPY_MODEL_b264895935f34794bda111c43603fff4",
            "_dom_classes": [],
            "description": "",
            "_model_name": "HTMLModel",
            "placeholder": "​",
            "_view_module": "@jupyter-widgets/controls",
            "_model_module_version": "1.5.0",
            "value": "100%",
            "_view_count": null,
            "_view_module_version": "1.5.0",
            "description_tooltip": null,
            "_model_module": "@jupyter-widgets/controls",
            "layout": "IPY_MODEL_6f75c51e85784273a4c58b79ce6250e8"
          }
        },
        "7ae57a871cad408184ec41d829e48720": {
          "model_module": "@jupyter-widgets/controls",
          "model_name": "FloatProgressModel",
          "model_module_version": "1.5.0",
          "state": {
            "_view_name": "ProgressView",
            "style": "IPY_MODEL_e6bb2a9e549c42bcbc5e0d80400882a9",
            "_dom_classes": [],
            "description": "",
            "_model_name": "FloatProgressModel",
            "bar_style": "success",
            "max": 244408911,
            "_view_module": "@jupyter-widgets/controls",
            "_model_module_version": "1.5.0",
            "value": 244408911,
            "_view_count": null,
            "_view_module_version": "1.5.0",
            "orientation": "horizontal",
            "min": 0,
            "description_tooltip": null,
            "_model_module": "@jupyter-widgets/controls",
            "layout": "IPY_MODEL_8f4bff4c968e4b6a8532b565270a6e9a"
          }
        },
        "00bbd2f7d0284b67823eb0728b0d4026": {
          "model_module": "@jupyter-widgets/controls",
          "model_name": "HTMLModel",
          "model_module_version": "1.5.0",
          "state": {
            "_view_name": "HTMLView",
            "style": "IPY_MODEL_3bf7d4c46c224366821318da2f23698c",
            "_dom_classes": [],
            "description": "",
            "_model_name": "HTMLModel",
            "placeholder": "​",
            "_view_module": "@jupyter-widgets/controls",
            "_model_module_version": "1.5.0",
            "value": " 233M/233M [00:03&lt;00:00, 74.3MB/s]",
            "_view_count": null,
            "_view_module_version": "1.5.0",
            "description_tooltip": null,
            "_model_module": "@jupyter-widgets/controls",
            "layout": "IPY_MODEL_4de745cd73114a35b84fad502d9d0d82"
          }
        },
        "b264895935f34794bda111c43603fff4": {
          "model_module": "@jupyter-widgets/controls",
          "model_name": "DescriptionStyleModel",
          "model_module_version": "1.5.0",
          "state": {
            "_view_name": "StyleView",
            "_model_name": "DescriptionStyleModel",
            "description_width": "",
            "_view_module": "@jupyter-widgets/base",
            "_model_module_version": "1.5.0",
            "_view_count": null,
            "_view_module_version": "1.2.0",
            "_model_module": "@jupyter-widgets/controls"
          }
        },
        "6f75c51e85784273a4c58b79ce6250e8": {
          "model_module": "@jupyter-widgets/base",
          "model_name": "LayoutModel",
          "model_module_version": "1.2.0",
          "state": {
            "_view_name": "LayoutView",
            "grid_template_rows": null,
            "right": null,
            "justify_content": null,
            "_view_module": "@jupyter-widgets/base",
            "overflow": null,
            "_model_module_version": "1.2.0",
            "_view_count": null,
            "flex_flow": null,
            "width": null,
            "min_width": null,
            "border": null,
            "align_items": null,
            "bottom": null,
            "_model_module": "@jupyter-widgets/base",
            "top": null,
            "grid_column": null,
            "overflow_y": null,
            "overflow_x": null,
            "grid_auto_flow": null,
            "grid_area": null,
            "grid_template_columns": null,
            "flex": null,
            "_model_name": "LayoutModel",
            "justify_items": null,
            "grid_row": null,
            "max_height": null,
            "align_content": null,
            "visibility": null,
            "align_self": null,
            "height": null,
            "min_height": null,
            "padding": null,
            "grid_auto_rows": null,
            "grid_gap": null,
            "max_width": null,
            "order": null,
            "_view_module_version": "1.2.0",
            "grid_template_areas": null,
            "object_position": null,
            "object_fit": null,
            "grid_auto_columns": null,
            "margin": null,
            "display": null,
            "left": null
          }
        },
        "e6bb2a9e549c42bcbc5e0d80400882a9": {
          "model_module": "@jupyter-widgets/controls",
          "model_name": "ProgressStyleModel",
          "model_module_version": "1.5.0",
          "state": {
            "_view_name": "StyleView",
            "_model_name": "ProgressStyleModel",
            "description_width": "",
            "_view_module": "@jupyter-widgets/base",
            "_model_module_version": "1.5.0",
            "_view_count": null,
            "_view_module_version": "1.2.0",
            "bar_color": null,
            "_model_module": "@jupyter-widgets/controls"
          }
        },
        "8f4bff4c968e4b6a8532b565270a6e9a": {
          "model_module": "@jupyter-widgets/base",
          "model_name": "LayoutModel",
          "model_module_version": "1.2.0",
          "state": {
            "_view_name": "LayoutView",
            "grid_template_rows": null,
            "right": null,
            "justify_content": null,
            "_view_module": "@jupyter-widgets/base",
            "overflow": null,
            "_model_module_version": "1.2.0",
            "_view_count": null,
            "flex_flow": null,
            "width": null,
            "min_width": null,
            "border": null,
            "align_items": null,
            "bottom": null,
            "_model_module": "@jupyter-widgets/base",
            "top": null,
            "grid_column": null,
            "overflow_y": null,
            "overflow_x": null,
            "grid_auto_flow": null,
            "grid_area": null,
            "grid_template_columns": null,
            "flex": null,
            "_model_name": "LayoutModel",
            "justify_items": null,
            "grid_row": null,
            "max_height": null,
            "align_content": null,
            "visibility": null,
            "align_self": null,
            "height": null,
            "min_height": null,
            "padding": null,
            "grid_auto_rows": null,
            "grid_gap": null,
            "max_width": null,
            "order": null,
            "_view_module_version": "1.2.0",
            "grid_template_areas": null,
            "object_position": null,
            "object_fit": null,
            "grid_auto_columns": null,
            "margin": null,
            "display": null,
            "left": null
          }
        },
        "3bf7d4c46c224366821318da2f23698c": {
          "model_module": "@jupyter-widgets/controls",
          "model_name": "DescriptionStyleModel",
          "model_module_version": "1.5.0",
          "state": {
            "_view_name": "StyleView",
            "_model_name": "DescriptionStyleModel",
            "description_width": "",
            "_view_module": "@jupyter-widgets/base",
            "_model_module_version": "1.5.0",
            "_view_count": null,
            "_view_module_version": "1.2.0",
            "_model_module": "@jupyter-widgets/controls"
          }
        },
        "4de745cd73114a35b84fad502d9d0d82": {
          "model_module": "@jupyter-widgets/base",
          "model_name": "LayoutModel",
          "model_module_version": "1.2.0",
          "state": {
            "_view_name": "LayoutView",
            "grid_template_rows": null,
            "right": null,
            "justify_content": null,
            "_view_module": "@jupyter-widgets/base",
            "overflow": null,
            "_model_module_version": "1.2.0",
            "_view_count": null,
            "flex_flow": null,
            "width": null,
            "min_width": null,
            "border": null,
            "align_items": null,
            "bottom": null,
            "_model_module": "@jupyter-widgets/base",
            "top": null,
            "grid_column": null,
            "overflow_y": null,
            "overflow_x": null,
            "grid_auto_flow": null,
            "grid_area": null,
            "grid_template_columns": null,
            "flex": null,
            "_model_name": "LayoutModel",
            "justify_items": null,
            "grid_row": null,
            "max_height": null,
            "align_content": null,
            "visibility": null,
            "align_self": null,
            "height": null,
            "min_height": null,
            "padding": null,
            "grid_auto_rows": null,
            "grid_gap": null,
            "max_width": null,
            "order": null,
            "_view_module_version": "1.2.0",
            "grid_template_areas": null,
            "object_position": null,
            "object_fit": null,
            "grid_auto_columns": null,
            "margin": null,
            "display": null,
            "left": null
          }
        }
      }
    }
  },
  "cells": [
    {
      "cell_type": "markdown",
      "metadata": {
        "id": "bln6qJI9nrAZ"
      },
      "source": [
        "# Data Extraction and Identification\n"
      ]
    },
    {
      "cell_type": "markdown",
      "metadata": {
        "id": "zlAFXhYcfcOA"
      },
      "source": [
        "## Screen extraction"
      ]
    },
    {
      "cell_type": "code",
      "metadata": {
        "id": "y94PEXrMOhPu",
        "colab": {
          "base_uri": "https://localhost:8080/"
        },
        "outputId": "b9651ec5-c9b7-412f-9412-54086f3a1218"
      },
      "source": [
        "!pip install imutils\n",
        "!pip install utils"
      ],
      "execution_count": null,
      "outputs": [
        {
          "output_type": "stream",
          "name": "stdout",
          "text": [
            "Requirement already satisfied: imutils in /usr/local/lib/python3.7/dist-packages (0.5.4)\n",
            "Collecting utils\n",
            "  Downloading utils-1.0.1-py2.py3-none-any.whl (21 kB)\n",
            "Installing collected packages: utils\n",
            "Successfully installed utils-1.0.1\n"
          ]
        }
      ]
    },
    {
      "cell_type": "code",
      "metadata": {
        "colab": {
          "base_uri": "https://localhost:8080/"
        },
        "id": "PySXCi1ydI3R",
        "outputId": "f3f639be-9429-43f0-cc67-5cecf4587a62"
      },
      "source": [
        "from google.colab import drive\n",
        "drive.mount('/content/gdrive')"
      ],
      "execution_count": null,
      "outputs": [
        {
          "output_type": "stream",
          "name": "stdout",
          "text": [
            "Mounted at /content/gdrive\n"
          ]
        }
      ]
    },
    {
      "cell_type": "code",
      "metadata": {
        "colab": {
          "base_uri": "https://localhost:8080/"
        },
        "id": "t8gAaEq0LrQK",
        "outputId": "12b8a320-aebd-42da-e424-e338bd7435b9"
      },
      "source": [
        "drive.mount(\"/content/gdrive\", force_remount=True)"
      ],
      "execution_count": null,
      "outputs": [
        {
          "output_type": "stream",
          "name": "stdout",
          "text": [
            "Mounted at /content/gdrive\n"
          ]
        }
      ]
    },
    {
      "cell_type": "code",
      "metadata": {
        "colab": {
          "base_uri": "https://localhost:8080/"
        },
        "id": "HrlOxVOFmGVb",
        "outputId": "ee205c0b-4b83-441a-8a00-011372e486d0"
      },
      "source": [
        "import os\n",
        "DATA_SAVE_PATH = \"/content/Datasets_digits/\"\n",
        "if not os.path.isdir(DATA_SAVE_PATH):\n",
        "    print(\"Path \", DATA_SAVE_PATH, \"has not formed\")\n",
        "    os.mkdir(DATA_SAVE_PATH)\n",
        "\n",
        "for i in range(11):\n",
        "    if not os.path.isdir(DATA_SAVE_PATH + str(i) +'/'):\n",
        "        print(\"Path \", DATA_SAVE_PATH+ str(i) +'/', \"has not formed\")\n",
        "        os.mkdir(DATA_SAVE_PATH+ str(i) +'/')"
      ],
      "execution_count": null,
      "outputs": [
        {
          "output_type": "stream",
          "name": "stdout",
          "text": [
            "Path  /content/Datasets_digits/ has not formed\n",
            "Path  /content/Datasets_digits/0/ has not formed\n",
            "Path  /content/Datasets_digits/1/ has not formed\n",
            "Path  /content/Datasets_digits/2/ has not formed\n",
            "Path  /content/Datasets_digits/3/ has not formed\n",
            "Path  /content/Datasets_digits/4/ has not formed\n",
            "Path  /content/Datasets_digits/5/ has not formed\n",
            "Path  /content/Datasets_digits/6/ has not formed\n",
            "Path  /content/Datasets_digits/7/ has not formed\n",
            "Path  /content/Datasets_digits/8/ has not formed\n",
            "Path  /content/Datasets_digits/9/ has not formed\n",
            "Path  /content/Datasets_digits/10/ has not formed\n"
          ]
        }
      ]
    },
    {
      "cell_type": "code",
      "metadata": {
        "colab": {
          "base_uri": "https://localhost:8080/",
          "height": 260
        },
        "id": "qLiESnax6EvD",
        "outputId": "9637a271-83db-4b09-8fec-3a9d9361b5ba"
      },
      "source": [
        "import shutil\n",
        "import os\n",
        "import numpy as np\n",
        "import imutils\n",
        "import cv2\n",
        "import scipy.spatial as sp\n",
        "from skimage.measure import label, regionprops\n",
        "import glob\n",
        "import utils\n",
        "#from utils.homofilt import HomomorphicFilter\n",
        "\n",
        "import skimage.filters as ft\n",
        "from google.colab.patches import cv2_imshow\n",
        "\n",
        "\n",
        "\n",
        "class frameExtractor:\n",
        "\n",
        "    def __init__(self, image=None, src_file_name=None, dst_file_name=None, return_image=False, output_shape =(400,100)):\n",
        "        \"\"\"\n",
        "        Use this class to extract the frame/LCD screen from the image. This is our step 1 for image preprocessing.\n",
        "        The final frame is extracted in grayscale.\n",
        "        Note that it works for the \"digital\" case and can be used for the \"analog\" case, but it is more efficient on the \"digital\" case.\n",
        "        :param image: RGB image (numpy array NxMx3) with a screen to extract. If image is None, the image will be extracted from src_filename\n",
        "        :param src_file_name: filename to load the source image where the screen needs to be extracted (e.g. HQ_digital/0a07d2cff5beb0580bca191427e8cd6e1a0eb678.jpg)\n",
        "        :param dst_file_name: filename to save the preprocessed image (e.g. HQ_digital_frame/0a07d2cff5beb0580bca191427e8cd6e1a0eb678.jpg\n",
        "        :param return_image: a boolean, if True extractAndSave returns an image (np. array) / if False it just saves the image.\n",
        "        :param output_shape: shape (in pxl) of the output image.\n",
        "        \"\"\"\n",
        "        if image is None :\n",
        "            self.image = cv2.imread(src_file_name)\n",
        "        else :\n",
        "            self.image = image\n",
        "        self.dst_file_name = dst_file_name\n",
        "        self.return_image = return_image\n",
        "        self.output_shape = output_shape\n",
        "        self.raw_frame = None\n",
        "        self.frame = None\n",
        "        self.sliced_frame = None\n",
        "\n",
        "\n",
        "    def distance_from_center(self, rectangle):\n",
        "        \"\"\"\n",
        "        Use this function to measure how far a rectangle is from the center of an image.\n",
        "        Most of the time the frame is approx. in the middle of the picture.\n",
        "        Note that the code works for shapes that are approx. rectangles.\n",
        "        :param rectangle: a 4x2 array with the coordinates of each corner of the rectangle.\n",
        "        :return: the distance (a float) between the center of the rectangle and the center of the picture.\n",
        "        \"\"\"\n",
        "        center_rc = 0.5*(rectangle[0]+ rectangle[2])\n",
        "        center_image = 0.5*np.array([self.image.shape[1],self.image.shape[0]])\n",
        "        distance = np.linalg.norm(center_rc-center_image)\n",
        "        return distance\n",
        "\n",
        "\n",
        "\n",
        "    def sort_pts_clockwise(A):\n",
        "        \"\"\"\n",
        "        Use this function to sort in clockwise order points in R^2.\n",
        "        Credit: https://stackoverflow.com/questions/30088697/4-1-2-numpy-array-sort-clockwise\n",
        "        :param A: a Nx2 array with the 2D coordinates of the points to sort.\n",
        "        :return: a Nx2 array with the points sorted in clockwise order starting with the top-left point.\n",
        "        \"\"\"\n",
        "        # Sort A based on Y(col-2) coordinates\n",
        "        sortedAc2 = A[np.argsort(A[:,1]),:]\n",
        "        # Get top two and bottom two points\n",
        "        top2 = sortedAc2[0:2,:]\n",
        "        bottom2 = sortedAc2[2:,:]\n",
        "        # Sort top2 points to have the first row as the top-left one\n",
        "        sortedtop2c1 = top2[np.argsort(top2[:,0]),:]\n",
        "        top_left = sortedtop2c1[0,:]\n",
        "        # Use top left point as pivot & calculate sq-euclidean dist against\n",
        "        # bottom2 points & thus get bottom-right, bottom-left sequentially\n",
        "        sqdists = sp.distance.cdist(top_left[None], bottom2, 'sqeuclidean')\n",
        "        rest2 = bottom2[np.argsort(np.max(sqdists,0))[::-1],:]\n",
        "        # Concatenate all these points for the final output\n",
        "        return np.concatenate((sortedtop2c1,rest2),axis =0)\n",
        "\n",
        "\n",
        "    def adjust_gamma(image, gamma=1.0):\n",
        "        \"\"\"\n",
        "        Use this function to adjust illumination in an image.\n",
        "        Credit: https://stackoverflow.com/questions/33322488/how-to-change-image-illumination-in-opencv-python\n",
        "        :param image: A grayscale image (NxM int array in [0, 255]\n",
        "        :param gamma: A positive float. If gamma<1 the image is darken / if gamma>1 the image is enlighten / if gamma=1 nothing happens.\n",
        "        :return: the enlighten/darken version of image\n",
        "        \"\"\"\n",
        "        invGamma = 1.0 / gamma\n",
        "        table = np.array([((i / 255.0) ** invGamma) * 255 for i in np.arange(0, 256)])\n",
        "        return cv2.LUT(image.astype(np.uint8), table.astype(np.uint8))\n",
        "\n",
        "\n",
        "    def frameDetection(self):\n",
        "        \"\"\"\n",
        "        The core method of the class. Use it to extract the frame in the image.\n",
        "        The extracted frame is in grayscale.\n",
        "        The followed steps are :\n",
        "            1. grayscale + smoothering + gamma to make the frame darker + binary threshold (rational = the frame is one of the darkest part in the picture).\n",
        "            2. extract regions of \"interest\".\n",
        "            3. heuristic to find a region of interest that is large enough, in the center of the picture and where length along x-axis > length along y-axis.\n",
        "            4. make a perspective transform to crop the image and deal with perspective deformations.\n",
        "        \"\"\"\n",
        "        self.image = imutils.resize(self.image, height=500)\n",
        "\n",
        "        # Step 1: grayscale + smoothering + gamma to make the frame darker + binary threshold\n",
        "        gray = cv2.cvtColor(self.image, cv2.COLOR_BGR2GRAY)\n",
        "        blurred = cv2.GaussianBlur(gray, (5, 5), 0)\n",
        "        \n",
        "        gamma = frameExtractor.adjust_gamma(blurred, gamma=0.7)\n",
        "        shapeMask = cv2.threshold(gamma, 0, 255, cv2.THRESH_BINARY_INV | cv2.THRESH_OTSU)[1]\n",
        "        #shapeMask = gamma\n",
        "        #cv2_imshow(shapeMask)\n",
        "        # Step 2: extract regions of \"interest\".\n",
        "        label_image = label(shapeMask)\n",
        "\n",
        "        Cnt = None\n",
        "        position = [0, 0, 0, 0]\n",
        "        \n",
        "        for region in regionprops(label_image):\n",
        "            # Step 3: heuristic to find a region large enough, in the center & with length along x-axis > length along y-axis.\n",
        "            minr, minc, maxr, maxc = region.bbox\n",
        "            c = np.array([[minc, minr], [minc, maxr], [maxc, minr], [maxc, maxr]])\n",
        "\n",
        "            if Cnt is None:\n",
        "                Cnt = c\n",
        "                position = [minr, minc, maxr, maxc]\n",
        "\n",
        "            old_dist = self.distance_from_center(Cnt)\n",
        "            new_dist = self.distance_from_center(c)\n",
        "\n",
        "            Lx = maxc - minc\n",
        "            Ly = maxr - minr\n",
        "\n",
        "            c = frameExtractor.sort_pts_clockwise(c)\n",
        "\n",
        "            if old_dist>new_dist and Ly<Lx and cv2.contourArea(c)>0.05*(shapeMask.shape[0]*shapeMask.shape[1]):\n",
        "                displayCnt = c\n",
        "                Cnt = c\n",
        "                position = [minr, minc, maxr, maxc]\n",
        "\n",
        "        Cnt = Cnt.reshape(4, 2)\n",
        "        Cnt = frameExtractor.sort_pts_clockwise(Cnt)\n",
        "        print(Cnt)\n",
        "\n",
        "\n",
        "        # Step 4: Make a perspective transform to crop the image and deal with perspective deformations.\n",
        "        try:\n",
        "            # Crop the image around the region of interest (but keep a bit of distance with a 30px padding).\n",
        "            # Darken + Binary threshold + rectangle detection.\n",
        "            # If this technique fails, raise an error and use basic methods (except part).\n",
        "\n",
        "            crop_img = self.image[max(0, position[0] - 30):min(position[2] + 30, self.image.shape[0]),\\\n",
        "                       max(0, position[1] - 30):min(self.image.shape[1], position[3] + 30)]\n",
        "\n",
        "            crop_blurred = cv2.GaussianBlur(crop_img, (5, 5), 0)\n",
        "            crop_gamma = frameExtractor.adjust_gamma(crop_blurred, gamma=0.4)\n",
        "            crop_gray = cv2.cvtColor(crop_gamma, cv2.COLOR_BGR2GRAY)\n",
        "            #cv2_imshow(crop_gray)\n",
        "            crop_thresh = cv2.threshold(crop_gray, 0, 255, cv2.THRESH_BINARY_INV | cv2.THRESH_OTSU)[1]\n",
        "            cnts = cv2.findContours(crop_thresh.copy(), cv2.RETR_EXTERNAL,\n",
        "                                    cv2.CHAIN_APPROX_SIMPLE)\n",
        "            cnts = cnts[0] if imutils.is_cv2() else cnts[1]\n",
        "            cnts = sorted(cnts, key=cv2.contourArea, reverse=True)\n",
        "            Cnt_bis = None\n",
        "\n",
        "            for c in cnts:\n",
        "                peri = cv2.arcLength(c, True)\n",
        "                approx = cv2.approxPolyDP(c, 0.02 * peri, True)\n",
        "\n",
        "                if len(approx) == 4:\n",
        "                    Cnt_bis = approx\n",
        "                    break\n",
        "\n",
        "            if cv2.contourArea(Cnt_bis)<0.5*(crop_img.shape[0]*crop_img.shape[1]):\n",
        "                raise ValueError(\"Couldn't find the box, so switching to ad hoc method.\")\n",
        "            \n",
        "            Cnt_bis = Cnt_bis.reshape(4, 2)\n",
        "            Cnt_bis = frameExtractor.sort_pts_clockwise(Cnt_bis)\n",
        "            src_pts = Cnt_bis.copy()\n",
        "            src_pts = src_pts.astype(np.float32)\n",
        "\n",
        "            dst_pts = np.array([[0, 0], [400, 0], [400, 100], [0, 100]], dtype=np.float32)\n",
        "            dst_pts = dst_pts.astype(np.float32)\n",
        "\n",
        "            persp = cv2.getPerspectiveTransform(src_pts, dst_pts)\n",
        "            warped = cv2.warpPerspective(crop_img, persp, (400, 100))\n",
        "            cv2_imshow(warped)\n",
        "\n",
        "        except:\n",
        "            # More basic techniques that give +/- acceptable results when the first technique fails.\n",
        "\n",
        "            src_pts = Cnt.copy()\n",
        "            src_pts = src_pts.astype(np.float32)\n",
        "\n",
        "            dst_pts = np.array([[0, 0], [400, 0], [400, 100], [0, 100]], dtype=np.float32)\n",
        "            dst_pts = dst_pts.astype(np.float32)\n",
        "\n",
        "            persp = cv2.getPerspectiveTransform(src_pts, dst_pts)\n",
        "            warped = cv2.warpPerspective(gray, persp, (400, 100))\n",
        "            cv2_imshow(warped)\n",
        "        # Frame is extracted from the initial image in grayscale (not other processing done on the image).\n",
        "        self.raw_frame = warped\n",
        "\n",
        "\n",
        "    # TODO : check why they fail\n",
        "    \"\"\"\n",
        "    http://www.amphident.de/en/blog/preprocessing-for-automatic-pattern-identification-in-wildlife-removing-glare.html\n",
        "    http://people.csail.mit.edu/yichangshih/mywebsite/reflection.pdf\n",
        "    http://news.mit.edu/2015/algorithm-removes-reflections-photos-0511\n",
        "    \"\"\"\n",
        "    def preprocessFrame(self):\n",
        "        \"\"\"\n",
        "        Final preprocessing that outputs a clean image 'cleaned_img' with more contrasts\n",
        "        \"\"\"\n",
        "        try :\n",
        "            gray = cv2.cvtColor(self.raw_frame, cv2.COLOR_BGR2GRAY)\n",
        "        except :\n",
        "            gray = self.raw_frame\n",
        "        thresh = cv2.equalizeHist(gray)\n",
        "        thresh = cv2.threshold(thresh, 45, 255, cv2.THRESH_BINARY_INV)[1]\n",
        "        cleaned_img = cv2.dilate(thresh, None, iterations=1)\n",
        "        self.frame = cleaned_img\n",
        "\n",
        "\n",
        "    def sliceFrame(self):\n",
        "        \"\"\"\n",
        "        Use this method to slice the frame and only keep the integer part (e.g. 123.45 becomes 123).\n",
        "        Heuristic: comma is approx. at 8/13 of the image.\n",
        "        :return:\n",
        "        \"\"\"\n",
        "        stop_at = int(np.floor(self.output_shape[0]*10.5/13))\n",
        "\n",
        "        start_at = int(self.output_shape[0]*0.9/13)\n",
        "     \n",
        "        stop_at_x = int(np.floor(self.output_shape[1]*7.7/13))\n",
        "        self.sliced_frame = np.array(self.frame)[:stop_at_x,start_at:stop_at]\n",
        "\n",
        "\n",
        "    def extractAndSaveFrame(self):\n",
        "        \"\"\"\n",
        "        Use this method to\n",
        "                1. detect and select the frame/screen.\n",
        "                2. preprocessing to only keep numbers (and remove noise).\n",
        "                3. slice the frame to only keep integer part.\n",
        "                4. save the sliced frame in dst_file_name.\n",
        "        :return: the extracted frame (np.array) if it was specified when instantiating the class.\n",
        "        \"\"\"\n",
        "        self.frameDetection()\n",
        "        self.preprocessFrame()\n",
        "        self.sliceFrame()\n",
        "        cv2.imwrite(self.dst_file_name, self.sliced_frame)\n",
        "        cv2_imshow(self.sliced_frame)\n",
        "        if self.return_image:\n",
        "            return self.sliced_frame\n",
        "        else:\n",
        "            return\n",
        "\n",
        "\n",
        "\n",
        "# --------------------- End of the class -----------------------------------\n",
        "\n",
        "\n",
        "\n",
        "\"\"\"\n",
        "A main function to preprocess all the images.\n",
        "\"\"\"\n",
        "\n",
        "if __name__ == \"__main__\":\n",
        "\n",
        "    if os.path.exists('Datasets_frames/'):\n",
        "        shutil.rmtree('Datasets_frames/')\n",
        "        os.makedirs('Datasets_frames/')\n",
        "    else:\n",
        "        os.makedirs('Datasets_frames/')\n",
        "\n",
        "    fail = [0, 0, 0]\n",
        "\n",
        "    #for file in glob.glob('/content/456.jpg'):\n",
        "    for file in glob.glob('/content/gdrive/MyDrive/img/img1.jpg'):  \n",
        "        try:\n",
        "            f = frameExtractor(image=None,\n",
        "                               src_file_name=file,\n",
        "                               dst_file_name='Datasets_frames/' + str(file).split('/')[-1],\n",
        "                               return_image=False,\n",
        "                               output_shape=(400, 100))\n",
        "            f.extractAndSaveFrame()\n",
        "        except:\n",
        "            fail[0] += 1\n",
        "\n",
        "    print(fail)"
      ],
      "execution_count": null,
      "outputs": [
        {
          "output_type": "stream",
          "name": "stdout",
          "text": [
            "[[135 116]\n",
            " [491 116]\n",
            " [491 256]\n",
            " [135 256]]\n"
          ]
        },
        {
          "output_type": "display_data",
          "data": {
            "image/png": "[encoded data removed]",
            "text/plain": [
              "<PIL.Image.Image image mode=L size=400x100 at 0x7F652C154790>"
            ]
          },
          "metadata": {}
        },
        {
          "output_type": "display_data",
          "data": {
            "image/png": "[encoded data removed]",
            "text/plain": [
              "<PIL.Image.Image image mode=L size=296x59 at 0x7F652B417E10>"
            ]
          },
          "metadata": {}
        },
        {
          "output_type": "stream",
          "name": "stdout",
          "text": [
            "[0, 0, 0]\n"
          ]
        }
      ]
    },
    {
      "cell_type": "markdown",
      "metadata": {
        "id": "127gW7yrfmtT"
      },
      "source": [
        "## Screen split"
      ]
    },
    {
      "cell_type": "code",
      "metadata": {
        "colab": {
          "base_uri": "https://localhost:8080/",
          "height": 371
        },
        "id": "ci9_QXDVdlRn",
        "outputId": "23803451-61cb-4889-ca43-5c90c7cdcccd"
      },
      "source": [
        "import cv2\n",
        "import os\n",
        "import pandas as pd\n",
        "import shutil\n",
        "\n",
        "\n",
        "class cutDigits:\n",
        "\n",
        "    def __init__(self, image=None, src_file_name=None, dst_folder_name='Datasets_digits', last_digit=6, labels=None):\n",
        "        \"\"\"\n",
        "        The aim of this class is to extract digits from the frame-only preprocessed image.\n",
        "        We to delimit digits by bounding boxes.\n",
        "        We tried several approaches, but we present here the most successful one, a \"dummy\" yet efficient approach.\n",
        "        :param image: RGB image (numpy array NxMx3) of a SLICED SCREEN. If image is None, the image will be extracted from src_filename\n",
        "        :param src_file_name: filename of a SLICED SCREEN to load the source image (e.g. HQ_digital_preprocessing/0a07d2cff5beb0580bca191427e8cd6e1a0eb678.jpg)\n",
        "        :param dst_folder_name: home FOLDERname where to save the extracted digits.\n",
        "        :param last_digit: int, the number of digits you want to extract starting from the left (0 = no digits / 4 = all four digits).\n",
        "        :param labels: list, list of labels corresponding to the image, e.g. if th image shows 123.45, the labels will be ['x',1,2,3].\n",
        "        \"\"\"\n",
        "        if image is None :\n",
        "            self.image = cv2.imread(src_file_name)\n",
        "        else:\n",
        "            self.image = image\n",
        "        self.src_file_name = src_file_name\n",
        "        self.dst_folder_name = dst_folder_name\n",
        "        self.last_digit=last_digit\n",
        "        self.labels = labels\n",
        "\n",
        "        self.box_size = None\n",
        "        self.boxes = []\n",
        "        self.paths = []\n",
        "\n",
        "\n",
        "\n",
        "    def get_bounding_box_dummy(self):\n",
        "        \"\"\"\n",
        "        Use this method to get bounding boxes and extract numbers by dividing the area in 4 equal parts (\"dummy\" yet efficient approach).\n",
        "        \"\"\"\n",
        "\n",
        "        self.boxes = []\n",
        "        self.box_size = self.image.shape[1]/6\n",
        "\n",
        "        for i in range(self.last_digit):\n",
        "            inf = i * self.box_size\n",
        "            sup = (i+1) * self.box_size\n",
        "            self.boxes += [self.image[:, int(inf):int(sup)]]\n",
        "\n",
        "        return self.boxes\n",
        "\n",
        "\n",
        "    def save_to_folder(self) :\n",
        "        \"\"\"\n",
        "        Use this method to save the extracted bounding boxes.\n",
        "        \"\"\"\n",
        "        if self.dst_folder_name is None :\n",
        "            return\n",
        "\n",
        "        for i in range(len(self.boxes)):\n",
        "            if self.labels :\n",
        "                box = self.boxes[i]\n",
        "                label = self.labels[i]\n",
        "                src_file_name = self.src_file_name.split('/')[-1].split('.')[0]\n",
        "                dst_file_name = 'Datasets_digits/%s/%s_%s.jpg' % (label, src_file_name, str(i))\n",
        "                self.paths.append(dst_file_name)\n",
        "                cv2.imwrite(dst_file_name, box)\n",
        "                \n",
        "            else:\n",
        "                pass\n",
        "\n",
        "            #else :\n",
        "          #      box = self.boxes[i]\n",
        "           #     src_file_name = self.src_file_name.split('/')[-1].split('.')[0]\n",
        "            #    dst_file_name = 'Datasets_digits/%s/%s_%s.jpg' % ('missing_label', src_file_name, str(i))\n",
        "            #    cv2.imwrite(dst_file_name, box)\n",
        "\n",
        "    def get_paths(self):\n",
        "        return self.paths\n",
        "\n",
        "# --------------------- End of the class -----------------------------------"
      ],
      "execution_count": null,
      "outputs": [
        {
          "output_type": "display_data",
          "data": {
            "image/png": "[encoded data removed]",
            "text/plain": [
              "<PIL.Image.Image image mode=RGB size=49x59 at 0x7F6421E70B90>"
            ]
          },
          "metadata": {}
        },
        {
          "output_type": "display_data",
          "data": {
            "image/png": "[encoded data removed]",
            "text/plain": [
              "<PIL.Image.Image image mode=RGB size=49x59 at 0x7F6421E70D10>"
            ]
          },
          "metadata": {}
        },
        {
          "output_type": "display_data",
          "data": {
            "image/png": "[encoded data removed]",
            "text/plain": [
              "<PIL.Image.Image image mode=RGB size=50x59 at 0x7F6421E70D10>"
            ]
          },
          "metadata": {}
        },
        {
          "output_type": "display_data",
          "data": {
            "image/png": "[encoded data removed]",
            "text/plain": [
              "<PIL.Image.Image image mode=RGB size=49x59 at 0x7F6421E70CD0>"
            ]
          },
          "metadata": {}
        },
        {
          "output_type": "display_data",
          "data": {
            "image/png": "[encoded data removed]",
            "text/plain": [
              "<PIL.Image.Image image mode=RGB size=49x59 at 0x7F6421E70CD0>"
            ]
          },
          "metadata": {}
        },
        {
          "output_type": "display_data",
          "data": {
            "image/png": "[encoded data removed]",
            "text/plain": [
              "<PIL.Image.Image image mode=RGB size=50x59 at 0x7F6421E70BD0>"
            ]
          },
          "metadata": {}
        }
      ]
    },
    {
      "cell_type": "code",
      "metadata": {
        "id": "xhMvK-RX8c2s"
      },
      "source": [
        "!rm -rf '/content/Datasets_frames'"
      ],
      "execution_count": null,
      "outputs": []
    },
    {
      "cell_type": "markdown",
      "metadata": {
        "id": "mQ-CrgXu0zvP"
      },
      "source": [
        "## Pytorch method"
      ]
    },
    {
      "cell_type": "markdown",
      "metadata": {
        "id": "KjdjLoAdfqYg"
      },
      "source": [
        "### Data Loading"
      ]
    },
    {
      "cell_type": "code",
      "metadata": {
        "colab": {
          "base_uri": "https://localhost:8080/"
        },
        "id": "3baDxffZQnm5",
        "outputId": "6d418fe9-bfed-4de1-9fd6-b010fb401ef0"
      },
      "source": [
        "drive.mount(\"/content/gdrive\", force_remount=True)"
      ],
      "execution_count": null,
      "outputs": [
        {
          "output_type": "stream",
          "name": "stdout",
          "text": [
            "Mounted at /content/gdrive\n"
          ]
        }
      ]
    },
    {
      "cell_type": "code",
      "metadata": {
        "colab": {
          "base_uri": "https://localhost:8080/"
        },
        "id": "z2EcHF7zxtgB",
        "outputId": "669180f7-6128-4615-83df-e8a6ed2febf4"
      },
      "source": [
        "import torch\n",
        "import torch.nn as nn\n",
        "import torch.nn.functional as F\n",
        "\n",
        "import matplotlib.pyplot as plt # for plotting\n",
        "import torch.optim as optim #for gradient descent\n",
        "\n",
        "torch.manual_seed(1) # set the random seed"
      ],
      "execution_count": null,
      "outputs": [
        {
          "output_type": "execute_result",
          "data": {
            "text/plain": [
              "<torch._C.Generator at 0x7f6429b5a630>"
            ]
          },
          "metadata": {},
          "execution_count": 5
        }
      ]
    },
    {
      "cell_type": "code",
      "metadata": {
        "id": "JE6mvVLvyr3E"
      },
      "source": [
        "#import all libraries to be used\n",
        "import numpy as np\n",
        "import time\n",
        "import matplotlib.pyplot as plt\n",
        "\n",
        "import torch\n",
        "import torch.nn as nn\n",
        "import torch.nn.functional as F\n",
        "import torch.optim as optim\n",
        "import torchvision\n",
        "from torch.utils.data.sampler import SubsetRandomSampler\n",
        "import torchvision.transforms as transforms\n",
        "\n",
        "from torchvision import datasets, models, transforms\n",
        "from torch.utils.data import TensorDataset\n",
        "import random"
      ],
      "execution_count": null,
      "outputs": []
    },
    {
      "cell_type": "code",
      "metadata": {
        "colab": {
          "base_uri": "https://localhost:8080/"
        },
        "id": "Xkqsrbahx6Pn",
        "outputId": "38b36c27-bf20-4f2a-f1cf-67d583cc8770"
      },
      "source": [
        "# define the classes?\n",
        "classes = ['0', '1', '2', '3', '4', '5', '6', '7', '8', '9']\n",
        "batch_size = 32\n",
        "transform = transforms.Compose([transforms.Resize((180, 256)), \n",
        "                                  transforms.ToTensor()])\n",
        "master_path = \"/content/gdrive/MyDrive/img/Datasets_digits\"\n",
        "data_all = torchvision.datasets.ImageFolder(root = master_path, transform = transform)\n",
        "total_len = len(data_all)\n",
        "train_data, validation_data, test_data = torch.utils.data.random_split(data_all, [int(total_len*0.7), int(total_len*0.15), total_len-int(total_len*0.7)-int(total_len*0.15)])\n",
        "\n",
        "#load the images\n",
        "train_loader = torch.utils.data.DataLoader(train_data, batch_size=batch_size,\n",
        "                                                num_workers=1, shuffle = True)\n",
        "test_loader = torch.utils.data.DataLoader(test_data, batch_size=batch_size,\n",
        "                                                num_workers=1, shuffle = True)\n",
        "validation_loader = torch.utils.data.DataLoader(validation_data, batch_size=batch_size,\n",
        "                                                num_workers=1, shuffle = True)\n",
        "\n",
        "\n",
        "total = len(train_data) + len(test_data) + len(validation_data)\n",
        "print(\"Image loading finished.\")\n",
        "print(len(train_data), \"images in the training set, taking up {:.2f}\".format(len(train_data)*100/total), \"%\")\n",
        "print(len(test_data), \"images in the testing set, taking up {:.2f}\".format(len(test_data)*100/total) , \"%\")\n",
        "print(len(validation_data), \"images in the validation set, taking up {:.2f}\".format(len(validation_data)*100/total), \"%\")"
      ],
      "execution_count": null,
      "outputs": [
        {
          "output_type": "stream",
          "name": "stdout",
          "text": [
            "Image loading finished.\n",
            "1330 images in the training set, taking up 69.96 %\n",
            "286 images in the testing set, taking up 15.04 %\n",
            "285 images in the validation set, taking up 14.99 %\n"
          ]
        }
      ]
    },
    {
      "cell_type": "markdown",
      "metadata": {
        "id": "UIHTiAQ-ft-w"
      },
      "source": [
        "### Classifier Definition"
      ]
    },
    {
      "cell_type": "code",
      "metadata": {
        "colab": {
          "base_uri": "https://localhost:8080/",
          "height": 66,
          "referenced_widgets": [
            "ec9d9d3d024742c09af86a8d61044a5a",
            "416059652bde439f85be0ad03cfec167",
            "e0437fef26944360980953d49f1deccc",
            "6d9c30e37da8454aaacde13d8aa90eab",
            "131b3961825245078bb84e2ba923cb6c",
            "a2fd531284094e818f222677278eb870",
            "7063b6dfe704468c8be565d9b8466221",
            "7b441084b2ca4c62879cd31d9e55c9b6",
            "8f5c4f4ad39f430fa1750dafe6b4fe41",
            "45bd4438b92448d0aa0f3154dfed2d4a",
            "62e7b66027af4ed696f78326da8b73e5"
          ]
        },
        "id": "POXopq-pS9lb",
        "outputId": "d410a399-07c2-4bf2-dfd7-b3d681358ceb"
      },
      "source": [
        "# alexnet\n",
        "import torchvision.models\n",
        "\n",
        "alexNet = torchvision.models.alexnet(pretrained=True)"
      ],
      "execution_count": null,
      "outputs": [
        {
          "output_type": "stream",
          "name": "stderr",
          "text": [
            "Downloading: \"https://download.pytorch.org/models/alexnet-owt-7be5be79.pth\" to /root/.cache/torch/hub/checkpoints/alexnet-owt-7be5be79.pth\n"
          ]
        },
        {
          "output_type": "display_data",
          "data": {
            "application/vnd.jupyter.widget-view+json": {
              "model_id": "ec9d9d3d024742c09af86a8d61044a5a",
              "version_minor": 0,
              "version_major": 2
            },
            "text/plain": [
              "  0%|          | 0.00/233M [00:00<?, ?B/s]"
            ]
          },
          "metadata": {}
        }
      ]
    },
    {
      "cell_type": "code",
      "metadata": {
        "id": "K9wj4QALTHRG"
      },
      "source": [
        "#Artifical Neural Network Architecture\n",
        "class ANNClassifier(nn.Module):\n",
        "    def __init__(self):\n",
        "        super(ANNClassifier, self).__init__()\n",
        "        self.fc1 = nn.Linear(256 * 4 * 7, 32)\n",
        "        self.fc2 = nn.Linear(32, 10)\n",
        "\n",
        "    def forward(self, x):\n",
        "        x = x.view(-1, 256 * 4 * 7) #flatten feature data\n",
        "        x = F.relu(self.fc1(x))\n",
        "        x = self.fc2(x)\n",
        "        return x"
      ],
      "execution_count": null,
      "outputs": []
    },
    {
      "cell_type": "code",
      "metadata": {
        "id": "sf0Tfmwf0SFr"
      },
      "source": [
        "class CNN(nn.Module):\n",
        "    def __init__(self):\n",
        "        super(CNN, self).__init__()\n",
        "        self.name = \"CNN\"\n",
        "        self.conv1 = nn.Conv2d(3, 5, 5)\n",
        "        self.pool = nn.MaxPool2d(2, 2)\n",
        "        self.conv2 = nn.Conv2d(5, 10, 5)\n",
        "        self.fc1 = nn.Linear(10 * 13 * 22, 32)\n",
        "        self.fc2 = nn.Linear(32, 11)\n",
        "\n",
        "    def forward(self, x):\n",
        "        x = self.pool(F.relu(self.conv1(x)))\n",
        "        x = self.pool(F.relu(self.conv2(x)))\n",
        "        x = x.view(-1, 10 * 13 * 22)\n",
        "        x = F.relu(self.fc1(x))\n",
        "        x = self.fc2(x)\n",
        "        #x = x.squeeze(1) # Flatten to [batch_size]\n",
        "        return x"
      ],
      "execution_count": null,
      "outputs": []
    },
    {
      "cell_type": "markdown",
      "metadata": {
        "id": "bPwTDBDVfzDs"
      },
      "source": [
        "### Training"
      ]
    },
    {
      "cell_type": "code",
      "metadata": {
        "id": "yumiQze80VVi"
      },
      "source": [
        "def get_accuracy(model, data, train=False):\n",
        "    correct = 0\n",
        "    total = 0\n",
        "    for imgs, labels in data:\n",
        "        \n",
        "        #############################################\n",
        "        #To Enable GPU Usage\n",
        "        if use_cuda and torch.cuda.is_available():\n",
        "          imgs = imgs.cuda()\n",
        "          labels = labels.cuda()\n",
        "        #############################################\n",
        "        \n",
        "        output = model(ALNC(imgs))\n",
        "        \n",
        "        #select index with maximum prediction score\n",
        "        pred = output.max(1, keepdim=True)[1]\n",
        "        correct += pred.eq(labels.view_as(pred)).sum().item()\n",
        "        total += imgs.shape[0]\n",
        "    return correct / total"
      ],
      "execution_count": null,
      "outputs": []
    },
    {
      "cell_type": "code",
      "metadata": {
        "id": "1yWXyl5u0ejG"
      },
      "source": [
        "def train(net, train_data, val_data, batch_size=32, learning_rate=0.0002, num_epochs=30):\n",
        "    ########################################################################\n",
        "    # Train a classifier on different gestures\n",
        "    target_classes = classes\n",
        "\n",
        "    ########################################################################\n",
        "    # Fixed PyTorch random seed for reproducible result\n",
        "    torch.manual_seed(1000)\n",
        "    \n",
        "    ########################################################################\n",
        "    # Define the Loss function and optimizer\n",
        "    #criterion = nn.BCEWithLogitsLoss()\n",
        "    criterion = nn.CrossEntropyLoss()\n",
        "    optimizer = torch.optim.Adam(net.parameters(), lr=learning_rate,betas=(0.5,0.999))\n",
        "\n",
        "    ########################################################################\n",
        "    # Set up some numpy arrays to store the training/test loss/erruracy\n",
        "    train_err = np.zeros(num_epochs)\n",
        "    train_loss = np.zeros(num_epochs)\n",
        "    val_err = np.zeros(num_epochs)\n",
        "    val_loss = np.zeros(num_epochs)\n",
        "\n",
        "    ########################################################################\n",
        "    # Train the network\n",
        "    # Loop over the data iterator and sample a new batch of training data\n",
        "    # Get the output from the network, and optimize our loss function.\n",
        "    iters, losses, train_acc, val_acc = [], [], [], []\n",
        "\n",
        "    print(\"Training start:\")\n",
        "    start_time = time.time()\n",
        "    n = 0 # the number of iterations\n",
        "    for epoch in range(num_epochs):\n",
        "        for imgs, labels in iter(train_data):\n",
        "          \n",
        "            #############################################\n",
        "            #To Enable GPU Usage\n",
        "            if use_cuda and torch.cuda.is_available():\n",
        "              imgs = imgs.cuda()\n",
        "              labels = labels.cuda()\n",
        "            #############################################\n",
        "\n",
        "            out = net(imgs)         # forward pass\n",
        "            loss = criterion(out, labels) # compute the total loss\n",
        "            loss.backward()               # backward pass (compute parameter updates)\n",
        "            optimizer.step()              # make the updates for each parameter\n",
        "            optimizer.zero_grad()         # a clean up step for PyTorch\n",
        "\n",
        "            # save the current training information\n",
        "        iters.append(n)\n",
        "        losses.append(float(loss)/batch_size)             # compute *average* loss\n",
        "        train_acc.append(get_accuracy(net, train_data, train=True)) # compute training accuracy \n",
        "        val_acc.append(get_accuracy(net, val_data, train=False))  # compute validation accuracy\n",
        "        n += 1\n",
        "          \n",
        "        print((\"Epoch {}: Train Accuracy: {}, Validation Accuracy: {} \").format(\n",
        "                   epoch + 1,\n",
        "                   train_acc[-1], \n",
        "                   val_acc[-1]))\n",
        "\n",
        "    print('Finished Training')\n",
        "    end_time = time.time()\n",
        "    elapsed_time = end_time - start_time\n",
        "    print(\"Total time elapsed: {:.2f} seconds\".format(elapsed_time))\n",
        "\n",
        "    print(\"Length of iters: \", len(iters))\n",
        "    print(\"Length of train_acc: \", len(train_acc))\n",
        "    print(\"Lenght of val_acc: \", len(val_acc))\n",
        "\n",
        "    plt.title(\"Training Curve\")\n",
        "    plt.plot(iters, losses, label=\"Train\")\n",
        "    plt.xlabel(\"Iterations\")\n",
        "    plt.ylabel(\"Loss\")\n",
        "    plt.show()\n",
        "\n",
        "    plt.title(\"Training Curve\")\n",
        "    plt.plot(iters, train_acc, label=\"Train\")\n",
        "    plt.plot(iters, val_acc, label=\"Validation\")\n",
        "    plt.xlabel(\"Iterations\")\n",
        "    plt.ylabel(\"Training Accuracy\")\n",
        "    plt.legend(loc='best')\n",
        "    plt.show()\n",
        "\n",
        "    print(\"Final Training Accuracy: {}\".format(train_acc[-1]))\n",
        "    print(\"Final Validation Accuracy: {}\".format(val_acc[-1]))"
      ],
      "execution_count": null,
      "outputs": []
    },
    {
      "cell_type": "code",
      "metadata": {
        "colab": {
          "base_uri": "https://localhost:8080/"
        },
        "id": "KV9wB4TN0ilj",
        "outputId": "b842705c-1d73-4d2a-9c31-caa9d68ec22e"
      },
      "source": [
        "use_cuda = True\n",
        "\n",
        "if use_cuda and torch.cuda.is_available():\n",
        "  print('CUDA is available!  Training on GPU ...')\n",
        "else:\n",
        "  print('CUDA is not available.  Training on CPU ...')"
      ],
      "execution_count": null,
      "outputs": [
        {
          "output_type": "stream",
          "name": "stdout",
          "text": [
            "CUDA is available!  Training on GPU ...\n"
          ]
        }
      ]
    },
    {
      "cell_type": "code",
      "metadata": {
        "id": "9Bq57i7uUAiY"
      },
      "source": [
        "def train_alex(model, train_data, val_data, batch_size=32, learning_rate=0.0002, num_epochs=30):\n",
        "    #train_loader = torch.utils.data.DataLoader(data, batch_size=batch_size)\n",
        "    # train_loader = torch.utils.data.DataLoader(train_data, batch_size=batch_size, \n",
        "                                           #num_workers=num_workers, shuffle=True)\n",
        "    criterion = nn.CrossEntropyLoss()\n",
        "    optimizer = torch.optim.Adam(model.parameters(), lr=learning_rate,betas=(0.5,0.999))\n",
        "\n",
        "    iters, losses, train_acc, val_acc = [], [], [], []\n",
        "\n",
        "    # training\n",
        "    n = 0 # the number of iterations\n",
        "    start_time=time.time()\n",
        "    for epoch in range(num_epochs):\n",
        "        mini_b=0\n",
        "        mini_batch_correct = 0\n",
        "        Mini_batch_total = 0\n",
        "        for imgs, labels in iter(train_data):\n",
        "          \n",
        "            \n",
        "            #############################################\n",
        "            #To Enable GPU Usage\n",
        "            if use_cuda and torch.cuda.is_available():\n",
        "              imgs = imgs.cuda()\n",
        "              labels = labels.cuda()\n",
        "            #############################################\n",
        "\n",
        "            #### ALNC is alexNet.features (AlexNet without classifier) ####\n",
        "            out = model(ALNC(imgs))             # forward pass\n",
        "            loss = criterion(out, labels) # compute the total loss\n",
        "            loss.backward()               # backward pass (compute parameter updates)\n",
        "            optimizer.step()              # make the updates for each parameter\n",
        "            optimizer.zero_grad()         # a clean up step for PyTorch\n",
        "\n",
        "            ##### Mini_batch Accuracy ##### We don't compute accuracy on the whole trainig set in every iteration!\n",
        "            pred = out.max(1, keepdim=True)[1]\n",
        "            mini_batch_correct = pred.eq(labels.view_as(pred)).sum().item()\n",
        "            Mini_batch_total = imgs.shape[0]\n",
        "        train_acc.append((mini_batch_correct / Mini_batch_total))\n",
        "           ###########################\n",
        "\n",
        "        # save the current training information\n",
        "        iters.append(n)\n",
        "        losses.append(float(loss)/batch_size)             # compute *average* loss\n",
        "        val_acc.append(get_accuracy(model, val_data, train=False))  # compute validation accuracy\n",
        "        n += 1\n",
        "        mini_b += 1\n",
        "        print((\"Epoch {}: Train Accuracy: {}, Validation Accuracy: {} \").format(epoch + 1,train_acc[-1],  val_acc[-1]))\n",
        "        print(\"Epoch %d Finished. \" % (epoch+1) ,\"Time per Epoch: % 6.2f s \"% ((time.time()-start_time) / (epoch +1)))\n",
        "\n",
        "\n",
        "    end_time= time.time()\n",
        "    # plotting\n",
        "    plt.title(\"Training Curve\")\n",
        "    plt.plot(iters, losses, label=\"Train\")\n",
        "    plt.xlabel(\"Iterations\")\n",
        "    plt.ylabel(\"Loss\")\n",
        "    plt.show()\n",
        "\n",
        "    plt.title(\"Training Curve\")\n",
        "    plt.plot(iters, train_acc, label=\"Training\")\n",
        "    plt.plot(iters, val_acc, label=\"Validation\")    \n",
        "    plt.xlabel(\"Iterations\")\n",
        "    plt.ylabel(\"Validation Accuracy\")\n",
        "    plt.legend(loc='best')\n",
        "    plt.show()\n",
        "\n",
        "    train_acc.append(get_accuracy(model, val_data, train=True))\n",
        "    print(\"Final Training Accuracy: {}\".format(train_acc[-1]))\n",
        "    print(\"Final Validation Accuracy: {}\".format(val_acc[-1]))\n",
        "    print (\"Total time:  % 6.2f s  Time per Epoch: % 6.2f s \" % ( (end_time-start_time), ((end_time-start_time) / num_epochs) ))"
      ],
      "execution_count": null,
      "outputs": []
    },
    {
      "cell_type": "code",
      "metadata": {
        "colab": {
          "base_uri": "https://localhost:8080/",
          "height": 1000
        },
        "id": "seSb3pdJTwjU",
        "outputId": "d86ccf3b-25a0-4193-d5c9-7284b8a103c3"
      },
      "source": [
        "use_cuda = True\n",
        "\n",
        "model_t = ANNClassifier()\n",
        "ALNC = alexNet.features\n",
        "\n",
        "if use_cuda and torch.cuda.is_available():\n",
        "    ALNC.cuda()\n",
        "    model_t.cuda()\n",
        "    print('CUDA is available!  Training on GPU ...')\n",
        "else:\n",
        "    print('CUDA is not available.  Training on CPU ...')\n",
        "  \n",
        "#proper model\n",
        "train_alex(model_t, train_loader, validation_loader, num_epochs=20, learning_rate=0.0003)"
      ],
      "execution_count": null,
      "outputs": [
        {
          "output_type": "stream",
          "name": "stdout",
          "text": [
            "CUDA is available!  Training on GPU ...\n",
            "Epoch 1: Train Accuracy: 0.5, Validation Accuracy: 0.6140350877192983 \n",
            "Epoch 1 Finished.  Time per Epoch:   7.52 s \n",
            "Epoch 2: Train Accuracy: 0.7222222222222222, Validation Accuracy: 0.6701754385964912 \n",
            "Epoch 2 Finished.  Time per Epoch:   7.46 s \n",
            "Epoch 3: Train Accuracy: 0.8333333333333334, Validation Accuracy: 0.6912280701754386 \n",
            "Epoch 3 Finished.  Time per Epoch:   7.44 s \n",
            "Epoch 4: Train Accuracy: 0.8333333333333334, Validation Accuracy: 0.7578947368421053 \n",
            "Epoch 4 Finished.  Time per Epoch:   7.43 s \n",
            "Epoch 5: Train Accuracy: 0.7777777777777778, Validation Accuracy: 0.7789473684210526 \n",
            "Epoch 5 Finished.  Time per Epoch:   7.45 s \n",
            "Epoch 6: Train Accuracy: 0.8888888888888888, Validation Accuracy: 0.7614035087719299 \n",
            "Epoch 6 Finished.  Time per Epoch:   7.46 s \n",
            "Epoch 7: Train Accuracy: 0.8333333333333334, Validation Accuracy: 0.775438596491228 \n",
            "Epoch 7 Finished.  Time per Epoch:   7.47 s \n",
            "Epoch 8: Train Accuracy: 0.8888888888888888, Validation Accuracy: 0.7824561403508772 \n",
            "Epoch 8 Finished.  Time per Epoch:   7.46 s \n",
            "Epoch 9: Train Accuracy: 1.0, Validation Accuracy: 0.7824561403508772 \n",
            "Epoch 9 Finished.  Time per Epoch:   7.47 s \n",
            "Epoch 10: Train Accuracy: 0.8333333333333334, Validation Accuracy: 0.7824561403508772 \n",
            "Epoch 10 Finished.  Time per Epoch:   7.47 s \n",
            "Epoch 11: Train Accuracy: 1.0, Validation Accuracy: 0.7964912280701755 \n",
            "Epoch 11 Finished.  Time per Epoch:   7.46 s \n",
            "Epoch 12: Train Accuracy: 0.9444444444444444, Validation Accuracy: 0.7859649122807018 \n",
            "Epoch 12 Finished.  Time per Epoch:   7.46 s \n",
            "Epoch 13: Train Accuracy: 1.0, Validation Accuracy: 0.7929824561403509 \n",
            "Epoch 13 Finished.  Time per Epoch:   7.45 s \n",
            "Epoch 14: Train Accuracy: 0.9444444444444444, Validation Accuracy: 0.8035087719298246 \n",
            "Epoch 14 Finished.  Time per Epoch:   7.45 s \n",
            "Epoch 15: Train Accuracy: 0.9444444444444444, Validation Accuracy: 0.7964912280701755 \n",
            "Epoch 15 Finished.  Time per Epoch:   7.45 s \n",
            "Epoch 16: Train Accuracy: 1.0, Validation Accuracy: 0.7894736842105263 \n",
            "Epoch 16 Finished.  Time per Epoch:   7.45 s \n",
            "Epoch 17: Train Accuracy: 1.0, Validation Accuracy: 0.7894736842105263 \n",
            "Epoch 17 Finished.  Time per Epoch:   7.46 s \n",
            "Epoch 18: Train Accuracy: 1.0, Validation Accuracy: 0.7964912280701755 \n",
            "Epoch 18 Finished.  Time per Epoch:   7.46 s \n",
            "Epoch 19: Train Accuracy: 1.0, Validation Accuracy: 0.7894736842105263 \n",
            "Epoch 19 Finished.  Time per Epoch:   7.46 s \n",
            "Epoch 20: Train Accuracy: 1.0, Validation Accuracy: 0.7929824561403509 \n",
            "Epoch 20 Finished.  Time per Epoch:   7.47 s \n"
          ]
        },
        {
          "output_type": "display_data",
          "data": {
            "image/png": "[encoded data removed]",
            "text/plain": [
              "<Figure size 432x288 with 1 Axes>"
            ]
          },
          "metadata": {
            "needs_background": "light"
          }
        },
        {
          "output_type": "display_data",
          "data": {
            "image/png": "[encoded data removed]",
            "text/plain": [
              "<Figure size 432x288 with 1 Axes>"
            ]
          },
          "metadata": {
            "needs_background": "light"
          }
        },
        {
          "output_type": "stream",
          "name": "stdout",
          "text": [
            "Final Training Accuracy: 0.7929824561403509\n",
            "Final Validation Accuracy: 0.7929824561403509\n",
            "Total time:   149.35 s  Time per Epoch:   7.47 s \n"
          ]
        }
      ]
    },
    {
      "cell_type": "code",
      "metadata": {
        "id": "_EbKJBbXcAb4"
      },
      "source": [
        "model_path = \"/content/gdrive/MyDrive/img/model/model_2.pth\"\n",
        "torch.save(model_t.state_dict(), model_path)"
      ],
      "execution_count": null,
      "outputs": []
    },
    {
      "cell_type": "code",
      "metadata": {
        "colab": {
          "base_uri": "https://localhost:8080/"
        },
        "id": "J8y2bFfVcWSE",
        "outputId": "fc29890f-3395-4cb3-d80d-bf23f56f02a7"
      },
      "source": [
        "model = ANNClassifier()\n",
        "model.load_state_dict(torch.load(model_path))\n",
        "model.eval()\n",
        "model.cuda()"
      ],
      "execution_count": null,
      "outputs": [
        {
          "output_type": "execute_result",
          "data": {
            "text/plain": [
              "ANNClassifier(\n",
              "  (fc1): Linear(in_features=7168, out_features=32, bias=True)\n",
              "  (fc2): Linear(in_features=32, out_features=10, bias=True)\n",
              ")"
            ]
          },
          "metadata": {},
          "execution_count": 149
        }
      ]
    },
    {
      "cell_type": "code",
      "metadata": {
        "colab": {
          "base_uri": "https://localhost:8080/",
          "height": 892
        },
        "id": "cs0X19MC1Dv4",
        "outputId": "19067f87-8fdb-4f00-d91c-2755ec05fea9"
      },
      "source": [
        "model1 = CNN()\n",
        "use_cuda = True\n",
        "if use_cuda and torch.cuda.is_available():\n",
        "  model1.cuda()\n",
        "  print('CUDA is available!  Training on GPU ...')\n",
        "else:\n",
        "  print('CUDA is not available.  Training on CPU ...')\n",
        "\n",
        "train_model(model1, train_loader, validation_loader, num_epochs=10)"
      ],
      "execution_count": null,
      "outputs": [
        {
          "output_type": "stream",
          "name": "stdout",
          "text": [
            "CUDA is available!  Training on GPU ...\n",
            "Training start:\n",
            "Epoch 1: Train Accuracy: 0.4447978191731031, Validation Accuracy: 0.38545454545454544 \n",
            "Epoch 2: Train Accuracy: 0.5497501135847342, Validation Accuracy: 0.4690909090909091 \n",
            "Epoch 3: Train Accuracy: 0.5942753293957292, Validation Accuracy: 0.5163636363636364 \n",
            "Epoch 4: Train Accuracy: 0.5983643798273512, Validation Accuracy: 0.5054545454545455 \n",
            "Epoch 5: Train Accuracy: 0.6378918673330305, Validation Accuracy: 0.5745454545454546 \n",
            "Epoch 6: Train Accuracy: 0.6578827805542935, Validation Accuracy: 0.5672727272727273 \n",
            "Epoch 7: Train Accuracy: 0.6624261699227624, Validation Accuracy: 0.5781818181818181 \n",
            "Epoch 8: Train Accuracy: 0.7060427078600636, Validation Accuracy: 0.5745454545454546 \n",
            "Epoch 9: Train Accuracy: 0.7469332121762835, Validation Accuracy: 0.5745454545454546 \n",
            "Epoch 10: Train Accuracy: 0.7587460245343026, Validation Accuracy: 0.5563636363636364 \n",
            "Finished Training\n",
            "Total time elapsed: 6263.85 seconds\n",
            "Length of iters:  690\n",
            "Length of train_acc:  690\n",
            "Lenght of val_acc:  690\n"
          ]
        },
        {
          "output_type": "display_data",
          "data": {
            "image/png": "[encoded data removed]",
            "text/plain": [
              "<Figure size 432x288 with 1 Axes>"
            ]
          },
          "metadata": {
            "needs_background": "light"
          }
        },
        {
          "output_type": "display_data",
          "data": {
            "image/png": "[encoded data removed]",
            "text/plain": [
              "<Figure size 432x288 with 1 Axes>"
            ]
          },
          "metadata": {
            "needs_background": "light"
          }
        },
        {
          "output_type": "stream",
          "name": "stdout",
          "text": [
            "Final Training Accuracy: 0.7587460245343026\n",
            "Final Validation Accuracy: 0.5563636363636364\n"
          ]
        }
      ]
    },
    {
      "cell_type": "code",
      "metadata": {
        "colab": {
          "base_uri": "https://localhost:8080/"
        },
        "id": "Jr1tKJLPgAzJ",
        "outputId": "d796f242-6230-433d-c161-b352bdb013f6"
      },
      "source": [
        "print(\"testing accuracy: \",get_accuracy(model_t, test_loader, train=False))"
      ],
      "execution_count": null,
      "outputs": [
        {
          "output_type": "stream",
          "name": "stdout",
          "text": [
            "testing accuracy:  0.8041958041958042\n"
          ]
        }
      ]
    },
    {
      "cell_type": "markdown",
      "metadata": {
        "id": "mb8SenV3f2pt"
      },
      "source": [
        "### Result visualization"
      ]
    },
    {
      "cell_type": "code",
      "metadata": {
        "colab": {
          "base_uri": "https://localhost:8080/",
          "height": 152
        },
        "id": "E72mbhb-dg0_",
        "outputId": "9355f874-aa00-40c1-ee1d-7fbc0bb811dc"
      },
      "source": [
        "img = Image.open(\"/content/Datasets_frames/img1.jpg\")\n",
        "plt.imshow(img)\n",
        "plt.show()\n",
        "labels = []\n",
        "reading = 0\n",
        "\n",
        "for p in paths:\n",
        "    img = Image.open(p)\n",
        "\n",
        "    img = transform(img)\n",
        "    img = torch.unsqueeze(img, 0)\n",
        "\n",
        "    output_p = model(ALNC(img.cuda()))\n",
        "            \n",
        "    #select index with maximum prediction score\n",
        "    pred_p = output_p.max(1, keepdim=True)[1]\n",
        "    labels.append(pred_p[0].item())\n",
        "    reading = reading * 10 + int(pred_p[0].item())\n",
        "print(\"label =\", labels)\n",
        "print(\"reading =\",reading)"
      ],
      "execution_count": null,
      "outputs": [
        {
          "output_type": "display_data",
          "data": {
            "image/png": "[encoded data removed]",
            "text/plain": [
              "<Figure size 432x288 with 1 Axes>"
            ]
          },
          "metadata": {
            "needs_background": "light"
          }
        },
        {
          "output_type": "stream",
          "name": "stdout",
          "text": [
            "label = [0, 9, 3, 5, 9, 2]\n",
            "reading = 93592\n"
          ]
        }
      ]
    },
    {
      "cell_type": "code",
      "metadata": {
        "colab": {
          "base_uri": "https://localhost:8080/",
          "height": 284
        },
        "id": "7b1yoOBigXkY",
        "outputId": "4465dbc0-4b41-405a-ac32-9929b99bdedc"
      },
      "source": [
        "from PIL import Image\n",
        "\n",
        "produced_path = \"/content/Datasets_digits\"\n",
        "img = Image.open(\"/content/Datasets_digits/2/img1_5.jpg\")\n",
        "plt.imshow(img)\n",
        "\n",
        "img = transform(img)\n",
        "img = torch.unsqueeze(img, 0)\n",
        "\n",
        "output_p = model(ALNC(img.cuda()))\n",
        "        \n",
        "#select index with maximum prediction score\n",
        "pred_p = output_p.max(1, keepdim=True)[1]\n",
        "print(\"label = \", pred_p[0].item())"
      ],
      "execution_count": null,
      "outputs": [
        {
          "output_type": "stream",
          "name": "stdout",
          "text": [
            "label =  2\n"
          ]
        },
        {
          "output_type": "display_data",
          "data": {
            "image/png": "[encoded data removed]",
            "text/plain": [
              "<Figure size 432x288 with 1 Axes>"
            ]
          },
          "metadata": {
            "needs_background": "light"
          }
        }
      ]
    },
    {
      "cell_type": "code",
      "metadata": {
        "colab": {
          "base_uri": "https://localhost:8080/",
          "height": 284
        },
        "id": "nfdzjfDEoUqv",
        "outputId": "d356ff0a-8693-435e-8c80-0ef1cc086c13"
      },
      "source": [
        "from PIL import Image\n",
        "\n",
        "img = Image.open(\"/content/Datasets_digits/0/img1_0.jpg\")\n",
        "plt.imshow(img)\n",
        "\n",
        "img = transform(img)\n",
        "img = torch.unsqueeze(img, 0)\n",
        "\n",
        "output_p = model_t(ALNC(img.cuda()))\n",
        "        \n",
        "#select index with maximum prediction score\n",
        "pred_p = output_p.max(1, keepdim=True)[1]\n",
        "print(\"label = \", pred_p[0].item())"
      ],
      "execution_count": null,
      "outputs": [
        {
          "output_type": "stream",
          "name": "stdout",
          "text": [
            "label =  0\n"
          ]
        },
        {
          "output_type": "display_data",
          "data": {
            "image/png": "[encoded data removed]",
            "text/plain": [
              "<Figure size 432x288 with 1 Axes>"
            ]
          },
          "metadata": {
            "needs_background": "light"
          }
        }
      ]
    },
    {
      "cell_type": "code",
      "metadata": {
        "colab": {
          "base_uri": "https://localhost:8080/",
          "height": 284
        },
        "id": "0tX44k_boZw3",
        "outputId": "3dcdf6d4-6e05-44c3-cd38-056f138953ac"
      },
      "source": [
        "from PIL import Image\n",
        "\n",
        "img = Image.open(\"/content/Datasets_digits/3/img1_2.jpg\")\n",
        "plt.imshow(img)\n",
        "\n",
        "img = transform(img)\n",
        "img = torch.unsqueeze(img, 0)\n",
        "\n",
        "output_p = model_t(ALNC(img.cuda()))\n",
        "        \n",
        "#select index with maximum prediction score\n",
        "pred_p = output_p.max(1, keepdim=True)[1]\n",
        "print(\"label = \", pred_p[0].item())"
      ],
      "execution_count": null,
      "outputs": [
        {
          "output_type": "stream",
          "name": "stdout",
          "text": [
            "label =  3\n"
          ]
        },
        {
          "output_type": "display_data",
          "data": {
            "image/png": "[encoded data removed]",
            "text/plain": [
              "<Figure size 432x288 with 1 Axes>"
            ]
          },
          "metadata": {
            "needs_background": "light"
          }
        }
      ]
    },
    {
      "cell_type": "code",
      "metadata": {
        "colab": {
          "base_uri": "https://localhost:8080/",
          "height": 284
        },
        "id": "F_jkrkuzodr-",
        "outputId": "9d4308ce-2f88-4fa5-ede9-39ae2a6e85ec"
      },
      "source": [
        "from PIL import Image\n",
        "\n",
        "img = Image.open(\"/content/Datasets_digits/5/img1_3.jpg\")\n",
        "plt.imshow(img)\n",
        "\n",
        "img = transform(img)\n",
        "img = torch.unsqueeze(img, 0)\n",
        "\n",
        "output_p = model_t(ALNC(img.cuda()))\n",
        "        \n",
        "#select index with maximum prediction score\n",
        "pred_p = output_p.max(1, keepdim=True)[1]\n",
        "print(\"label = \", pred_p[0].item())"
      ],
      "execution_count": null,
      "outputs": [
        {
          "output_type": "stream",
          "name": "stdout",
          "text": [
            "label =  5\n"
          ]
        },
        {
          "output_type": "display_data",
          "data": {
            "image/png": "[encoded data removed]",
            "text/plain": [
              "<Figure size 432x288 with 1 Axes>"
            ]
          },
          "metadata": {
            "needs_background": "light"
          }
        }
      ]
    },
    {
      "cell_type": "code",
      "metadata": {
        "colab": {
          "base_uri": "https://localhost:8080/",
          "height": 284
        },
        "id": "uM3WBdmkogBA",
        "outputId": "be6796dc-4b90-4301-9b95-a9e6846c313c"
      },
      "source": [
        "from PIL import Image\n",
        "\n",
        "img = Image.open(\"/content/Datasets_digits/9/img1_1.jpg\")\n",
        "plt.imshow(img)\n",
        "\n",
        "img = transform(img)\n",
        "img = torch.unsqueeze(img, 0)\n",
        "\n",
        "output_p = model_t(ALNC(img.cuda()))\n",
        "        \n",
        "#select index with maximum prediction score\n",
        "pred_p = output_p.max(1, keepdim=True)[1]\n",
        "print(\"label = \", pred_p[0].item())\n"
      ],
      "execution_count": null,
      "outputs": [
        {
          "output_type": "stream",
          "name": "stdout",
          "text": [
            "label =  9\n"
          ]
        },
        {
          "output_type": "display_data",
          "data": {
            "image/png": "[encoded data removed]",
            "text/plain": [
              "<Figure size 432x288 with 1 Axes>"
            ]
          },
          "metadata": {
            "needs_background": "light"
          }
        }
      ]
    },
    {
      "cell_type": "code",
      "metadata": {
        "colab": {
          "base_uri": "https://localhost:8080/",
          "height": 284
        },
        "id": "s-pHf8kqZaGs",
        "outputId": "3f4706ea-fa50-4e46-951a-c4c1c0ad3776"
      },
      "source": [
        "img = Image.open(\"/content/Datasets_digits/9/img1_4.jpg\")\n",
        "plt.imshow(img)\n",
        "\n",
        "img = transform(img)\n",
        "img = torch.unsqueeze(img, 0)\n",
        "\n",
        "output_p = model_t(ALNC(img.cuda()))\n",
        "        \n",
        "#select index with maximum prediction score\n",
        "pred_p = output_p.max(1, keepdim=True)[1]\n",
        "print(\"label = \", pred_p[0].item())"
      ],
      "execution_count": null,
      "outputs": [
        {
          "output_type": "stream",
          "name": "stdout",
          "text": [
            "label =  8\n"
          ]
        },
        {
          "output_type": "display_data",
          "data": {
            "image/png": "[encoded data removed]",
            "text/plain": [
              "<Figure size 432x288 with 1 Axes>"
            ]
          },
          "metadata": {
            "needs_background": "light"
          }
        }
      ]
    },
    {
      "cell_type": "markdown",
      "metadata": {
        "id": "NZFoV2ScFjXh"
      },
      "source": [
        "## Combined Functions"
      ]
    },
    {
      "cell_type": "code",
      "metadata": {
        "id": "6FsRfB_pKwB2",
        "colab": {
          "base_uri": "https://localhost:8080/"
        },
        "outputId": "ad7ca239-0726-4871-c5a1-219bc4d21390"
      },
      "source": [
        "!pip install imutils\n",
        "!pip install utils"
      ],
      "execution_count": null,
      "outputs": [
        {
          "output_type": "stream",
          "name": "stdout",
          "text": [
            "Requirement already satisfied: imutils in /usr/local/lib/python3.7/dist-packages (0.5.4)\n",
            "Collecting utils\n",
            "  Downloading utils-1.0.1-py2.py3-none-any.whl (21 kB)\n",
            "Installing collected packages: utils\n",
            "Successfully installed utils-1.0.1\n"
          ]
        }
      ]
    },
    {
      "cell_type": "code",
      "metadata": {
        "id": "D64QJ1OWG5sq"
      },
      "source": [
        "import torch\n",
        "import torch.nn as nn\n",
        "import torch.nn.functional as F\n",
        "\n",
        "import matplotlib.pyplot as plt # for plotting\n",
        "import torch.optim as optim #for gradient descent\n",
        "\n",
        "torch.manual_seed(1) # set the random seed\n",
        "\n",
        "#import all libraries to be used\n",
        "import numpy as np\n",
        "import time\n",
        "import matplotlib.pyplot as plt\n",
        "\n",
        "import torch\n",
        "import torch.nn as nn\n",
        "import torch.nn.functional as F\n",
        "import torch.optim as optim\n",
        "import torchvision\n",
        "from torch.utils.data.sampler import SubsetRandomSampler\n",
        "import torchvision.transforms as transforms\n",
        "\n",
        "from torchvision import datasets, models, transforms\n",
        "from torch.utils.data import TensorDataset\n",
        "import random\n",
        "from PIL import Image\n",
        "    \n",
        "import os\n",
        "import torchvision.models"
      ],
      "execution_count": null,
      "outputs": []
    },
    {
      "cell_type": "code",
      "metadata": {
        "colab": {
          "base_uri": "https://localhost:8080/"
        },
        "id": "KP8-eXNbFlbG",
        "outputId": "c0b4a7ce-bba7-4aba-afaa-28ba656f13ab"
      },
      "source": [
        "from google.colab import drive\n",
        "drive.mount('/content/gdrive')"
      ],
      "execution_count": null,
      "outputs": [
        {
          "output_type": "stream",
          "name": "stdout",
          "text": [
            "Mounted at /content/gdrive\n"
          ]
        }
      ]
    },
    {
      "cell_type": "code",
      "metadata": {
        "id": "2siW_rmuKsqZ"
      },
      "source": [
        "import shutil\n",
        "import os\n",
        "import numpy as np\n",
        "import imutils\n",
        "import cv2\n",
        "import scipy.spatial as sp\n",
        "from skimage.measure import label, regionprops\n",
        "import glob\n",
        "import utils\n",
        "#from utils.homofilt import HomomorphicFilter\n",
        "\n",
        "import skimage.filters as ft\n",
        "from google.colab.patches import cv2_imshow\n",
        "\n",
        "\n",
        "\n",
        "class frameExtractor:\n",
        "\n",
        "    def __init__(self, image=None, src_file_name=None, dst_file_name=None, return_image=False, output_shape =(400,100)):\n",
        "        \"\"\"\n",
        "        Use this class to extract the frame/LCD screen from the image. This is our step 1 for image preprocessing.\n",
        "        The final frame is extracted in grayscale.\n",
        "        Note that it works for the \"digital\" case and can be used for the \"analog\" case, but it is more efficient on the \"digital\" case.\n",
        "        :param image: RGB image (numpy array NxMx3) with a screen to extract. If image is None, the image will be extracted from src_filename\n",
        "        :param src_file_name: filename to load the source image where the screen needs to be extracted (e.g. HQ_digital/0a07d2cff5beb0580bca191427e8cd6e1a0eb678.jpg)\n",
        "        :param dst_file_name: filename to save the preprocessed image (e.g. HQ_digital_frame/0a07d2cff5beb0580bca191427e8cd6e1a0eb678.jpg\n",
        "        :param return_image: a boolean, if True extractAndSave returns an image (np. array) / if False it just saves the image.\n",
        "        :param output_shape: shape (in pxl) of the output image.\n",
        "        \"\"\"\n",
        "        if image is None :\n",
        "            self.image = cv2.imread(src_file_name)\n",
        "        else :\n",
        "            self.image = image\n",
        "        self.dst_file_name = dst_file_name\n",
        "        self.return_image = return_image\n",
        "        self.output_shape = output_shape\n",
        "        self.raw_frame = None\n",
        "        self.frame = None\n",
        "        self.sliced_frame = None\n",
        "\n",
        "\n",
        "    def distance_from_center(self, rectangle):\n",
        "        \"\"\"\n",
        "        Use this function to measure how far a rectangle is from the center of an image.\n",
        "        Most of the time the frame is approx. in the middle of the picture.\n",
        "        Note that the code works for shapes that are approx. rectangles.\n",
        "        :param rectangle: a 4x2 array with the coordinates of each corner of the rectangle.\n",
        "        :return: the distance (a float) between the center of the rectangle and the center of the picture.\n",
        "        \"\"\"\n",
        "        center_rc = 0.5*(rectangle[0]+ rectangle[2])\n",
        "        center_image = 0.5*np.array([self.image.shape[1],self.image.shape[0]])\n",
        "        distance = np.linalg.norm(center_rc-center_image)\n",
        "        return distance\n",
        "\n",
        "\n",
        "\n",
        "    def sort_pts_clockwise(A):\n",
        "        \"\"\"\n",
        "        Use this function to sort in clockwise order points in R^2.\n",
        "        Credit: https://stackoverflow.com/questions/30088697/4-1-2-numpy-array-sort-clockwise\n",
        "        :param A: a Nx2 array with the 2D coordinates of the points to sort.\n",
        "        :return: a Nx2 array with the points sorted in clockwise order starting with the top-left point.\n",
        "        \"\"\"\n",
        "        # Sort A based on Y(col-2) coordinates\n",
        "        sortedAc2 = A[np.argsort(A[:,1]),:]\n",
        "        # Get top two and bottom two points\n",
        "        top2 = sortedAc2[0:2,:]\n",
        "        bottom2 = sortedAc2[2:,:]\n",
        "        # Sort top2 points to have the first row as the top-left one\n",
        "        sortedtop2c1 = top2[np.argsort(top2[:,0]),:]\n",
        "        top_left = sortedtop2c1[0,:]\n",
        "        # Use top left point as pivot & calculate sq-euclidean dist against\n",
        "        # bottom2 points & thus get bottom-right, bottom-left sequentially\n",
        "        sqdists = sp.distance.cdist(top_left[None], bottom2, 'sqeuclidean')\n",
        "        rest2 = bottom2[np.argsort(np.max(sqdists,0))[::-1],:]\n",
        "        # Concatenate all these points for the final output\n",
        "        return np.concatenate((sortedtop2c1,rest2),axis =0)\n",
        "\n",
        "\n",
        "    def adjust_gamma(image, gamma=1.0):\n",
        "        \"\"\"\n",
        "        Use this function to adjust illumination in an image.\n",
        "        Credit: https://stackoverflow.com/questions/33322488/how-to-change-image-illumination-in-opencv-python\n",
        "        :param image: A grayscale image (NxM int array in [0, 255]\n",
        "        :param gamma: A positive float. If gamma<1 the image is darken / if gamma>1 the image is enlighten / if gamma=1 nothing happens.\n",
        "        :return: the enlighten/darken version of image\n",
        "        \"\"\"\n",
        "        invGamma = 1.0 / gamma\n",
        "        table = np.array([((i / 255.0) ** invGamma) * 255 for i in np.arange(0, 256)])\n",
        "        return cv2.LUT(image.astype(np.uint8), table.astype(np.uint8))\n",
        "\n",
        "\n",
        "    def frameDetection(self):\n",
        "        \"\"\"\n",
        "        The core method of the class. Use it to extract the frame in the image.\n",
        "        The extracted frame is in grayscale.\n",
        "        The followed steps are :\n",
        "            1. grayscale + smoothering + gamma to make the frame darker + binary threshold (rational = the frame is one of the darkest part in the picture).\n",
        "            2. extract regions of \"interest\".\n",
        "            3. heuristic to find a region of interest that is large enough, in the center of the picture and where length along x-axis > length along y-axis.\n",
        "            4. make a perspective transform to crop the image and deal with perspective deformations.\n",
        "        \"\"\"\n",
        "        self.image = imutils.resize(self.image, height=500)\n",
        "\n",
        "        # Step 1: grayscale + smoothering + gamma to make the frame darker + binary threshold\n",
        "        gray = cv2.cvtColor(self.image, cv2.COLOR_BGR2GRAY)\n",
        "        blurred = cv2.GaussianBlur(gray, (5, 5), 0)\n",
        "        \n",
        "        gamma = frameExtractor.adjust_gamma(blurred, gamma=0.7)\n",
        "        shapeMask = cv2.threshold(gamma, 0, 255, cv2.THRESH_BINARY_INV | cv2.THRESH_OTSU)[1]\n",
        "        #shapeMask = gamma\n",
        "        #cv2_imshow(shapeMask)\n",
        "        # Step 2: extract regions of \"interest\".\n",
        "        label_image = label(shapeMask)\n",
        "\n",
        "        Cnt = None\n",
        "        position = [0, 0, 0, 0]\n",
        "        \n",
        "        for region in regionprops(label_image):\n",
        "            # Step 3: heuristic to find a region large enough, in the center & with length along x-axis > length along y-axis.\n",
        "            minr, minc, maxr, maxc = region.bbox\n",
        "            c = np.array([[minc, minr], [minc, maxr], [maxc, minr], [maxc, maxr]])\n",
        "\n",
        "            if Cnt is None:\n",
        "                Cnt = c\n",
        "                position = [minr, minc, maxr, maxc]\n",
        "\n",
        "            old_dist = self.distance_from_center(Cnt)\n",
        "            new_dist = self.distance_from_center(c)\n",
        "\n",
        "            Lx = maxc - minc\n",
        "            Ly = maxr - minr\n",
        "\n",
        "            c = frameExtractor.sort_pts_clockwise(c)\n",
        "\n",
        "            if old_dist>new_dist and Ly<Lx and cv2.contourArea(c)>0.05*(shapeMask.shape[0]*shapeMask.shape[1]):\n",
        "                displayCnt = c\n",
        "                Cnt = c\n",
        "                position = [minr, minc, maxr, maxc]\n",
        "\n",
        "        Cnt = Cnt.reshape(4, 2)\n",
        "        Cnt = frameExtractor.sort_pts_clockwise(Cnt)\n",
        "        print(Cnt)\n",
        "\n",
        "\n",
        "        # Step 4: Make a perspective transform to crop the image and deal with perspective deformations.\n",
        "        try:\n",
        "            # Crop the image around the region of interest (but keep a bit of distance with a 30px padding).\n",
        "            # Darken + Binary threshold + rectangle detection.\n",
        "            # If this technique fails, raise an error and use basic methods (except part).\n",
        "\n",
        "            crop_img = self.image[max(0, position[0] - 30):min(position[2] + 30, self.image.shape[0]),\\\n",
        "                       max(0, position[1] - 30):min(self.image.shape[1], position[3] + 30)]\n",
        "\n",
        "            crop_blurred = cv2.GaussianBlur(crop_img, (5, 5), 0)\n",
        "            crop_gamma = frameExtractor.adjust_gamma(crop_blurred, gamma=0.4)\n",
        "            crop_gray = cv2.cvtColor(crop_gamma, cv2.COLOR_BGR2GRAY)\n",
        "            #cv2_imshow(crop_gray)\n",
        "            crop_thresh = cv2.threshold(crop_gray, 0, 255, cv2.THRESH_BINARY_INV | cv2.THRESH_OTSU)[1]\n",
        "            cnts = cv2.findContours(crop_thresh.copy(), cv2.RETR_EXTERNAL,\n",
        "                                    cv2.CHAIN_APPROX_SIMPLE)\n",
        "            cnts = cnts[0] if imutils.is_cv2() else cnts[1]\n",
        "            cnts = sorted(cnts, key=cv2.contourArea, reverse=True)\n",
        "            Cnt_bis = None\n",
        "\n",
        "            for c in cnts:\n",
        "                peri = cv2.arcLength(c, True)\n",
        "                approx = cv2.approxPolyDP(c, 0.02 * peri, True)\n",
        "\n",
        "                if len(approx) == 4:\n",
        "                    Cnt_bis = approx\n",
        "                    break\n",
        "\n",
        "            if cv2.contourArea(Cnt_bis)<0.5*(crop_img.shape[0]*crop_img.shape[1]):\n",
        "                raise ValueError(\"Couldn't find the box, so switching to ad hoc method.\")\n",
        "            \n",
        "            Cnt_bis = Cnt_bis.reshape(4, 2)\n",
        "            Cnt_bis = frameExtractor.sort_pts_clockwise(Cnt_bis)\n",
        "            src_pts = Cnt_bis.copy()\n",
        "            src_pts = src_pts.astype(np.float32)\n",
        "\n",
        "            dst_pts = np.array([[0, 0], [400, 0], [400, 100], [0, 100]], dtype=np.float32)\n",
        "            dst_pts = dst_pts.astype(np.float32)\n",
        "\n",
        "            persp = cv2.getPerspectiveTransform(src_pts, dst_pts)\n",
        "            warped = cv2.warpPerspective(crop_img, persp, (400, 100))\n",
        "            cv2_imshow(warped)\n",
        "\n",
        "        except:\n",
        "            # More basic techniques that give +/- acceptable results when the first technique fails.\n",
        "\n",
        "            src_pts = Cnt.copy()\n",
        "            src_pts = src_pts.astype(np.float32)\n",
        "\n",
        "            dst_pts = np.array([[0, 0], [400, 0], [400, 100], [0, 100]], dtype=np.float32)\n",
        "            dst_pts = dst_pts.astype(np.float32)\n",
        "\n",
        "            persp = cv2.getPerspectiveTransform(src_pts, dst_pts)\n",
        "            warped = cv2.warpPerspective(gray, persp, (400, 100))\n",
        "            cv2_imshow(warped)\n",
        "        # Frame is extracted from the initial image in grayscale (not other processing done on the image).\n",
        "        self.raw_frame = warped\n",
        "\n",
        "\n",
        "    # TODO : check why they fail\n",
        "    \"\"\"\n",
        "    http://www.amphident.de/en/blog/preprocessing-for-automatic-pattern-identification-in-wildlife-removing-glare.html\n",
        "    http://people.csail.mit.edu/yichangshih/mywebsite/reflection.pdf\n",
        "    http://news.mit.edu/2015/algorithm-removes-reflections-photos-0511\n",
        "    \"\"\"\n",
        "    def preprocessFrame(self):\n",
        "        \"\"\"\n",
        "        Final preprocessing that outputs a clean image 'cleaned_img' with more contrasts\n",
        "        \"\"\"\n",
        "        try :\n",
        "            gray = cv2.cvtColor(self.raw_frame, cv2.COLOR_BGR2GRAY)\n",
        "        except :\n",
        "            gray = self.raw_frame\n",
        "        thresh = cv2.equalizeHist(gray)\n",
        "        thresh = cv2.threshold(thresh, 45, 255, cv2.THRESH_BINARY_INV)[1]\n",
        "        cleaned_img = cv2.dilate(thresh, None, iterations=1)\n",
        "        self.frame = cleaned_img\n",
        "\n",
        "\n",
        "    def sliceFrame(self):\n",
        "        \"\"\"\n",
        "        Use this method to slice the frame and only keep the integer part (e.g. 123.45 becomes 123).\n",
        "        Heuristic: comma is approx. at 8/13 of the image.\n",
        "        :return:\n",
        "        \"\"\"\n",
        "        stop_at = int(np.floor(self.output_shape[0]*10.5/13))\n",
        "\n",
        "        start_at = int(self.output_shape[0]*0.9/13)\n",
        "     \n",
        "        stop_at_x = int(np.floor(self.output_shape[1]*7.7/13))\n",
        "        self.sliced_frame = np.array(self.frame)[:stop_at_x,start_at:stop_at]\n",
        "\n",
        "\n",
        "    def extractAndSaveFrame(self):\n",
        "        \"\"\"\n",
        "        Use this method to\n",
        "                1. detect and select the frame/screen.\n",
        "                2. preprocessing to only keep numbers (and remove noise).\n",
        "                3. slice the frame to only keep integer part.\n",
        "                4. save the sliced frame in dst_file_name.\n",
        "        :return: the extracted frame (np.array) if it was specified when instantiating the class.\n",
        "        \"\"\"\n",
        "        self.frameDetection()\n",
        "        self.preprocessFrame()\n",
        "        self.sliceFrame()\n",
        "        cv2.imwrite(self.dst_file_name, self.sliced_frame)\n",
        "        cv2_imshow(self.sliced_frame)\n",
        "        if self.return_image:\n",
        "            return self.sliced_frame\n",
        "        else:\n",
        "            return\n",
        "\n",
        "\n",
        "\n",
        "# --------------------- End of the class -----------------------------------"
      ],
      "execution_count": null,
      "outputs": []
    },
    {
      "cell_type": "code",
      "metadata": {
        "id": "Ei_RBdXZKnL8"
      },
      "source": [
        "import cv2\n",
        "import os\n",
        "import pandas as pd\n",
        "import shutil\n",
        "\n",
        "\n",
        "class cutDigits:\n",
        "\n",
        "    def __init__(self, image=None, src_file_name=None, dst_folder_name='Datasets_digits', last_digit=6, labels=None):\n",
        "        \"\"\"\n",
        "        The aim of this class is to extract digits from the frame-only preprocessed image.\n",
        "        We to delimit digits by bounding boxes.\n",
        "        We tried several approaches, but we present here the most successful one, a \"dummy\" yet efficient approach.\n",
        "        :param image: RGB image (numpy array NxMx3) of a SLICED SCREEN. If image is None, the image will be extracted from src_filename\n",
        "        :param src_file_name: filename of a SLICED SCREEN to load the source image (e.g. HQ_digital_preprocessing/0a07d2cff5beb0580bca191427e8cd6e1a0eb678.jpg)\n",
        "        :param dst_folder_name: home FOLDERname where to save the extracted digits.\n",
        "        :param last_digit: int, the number of digits you want to extract starting from the left (0 = no digits / 4 = all four digits).\n",
        "        :param labels: list, list of labels corresponding to the image, e.g. if th image shows 123.45, the labels will be ['x',1,2,3].\n",
        "        \"\"\"\n",
        "        if image is None :\n",
        "            self.image = cv2.imread(src_file_name)\n",
        "        else:\n",
        "            self.image = image\n",
        "        self.src_file_name = src_file_name\n",
        "        self.dst_folder_name = dst_folder_name\n",
        "        self.last_digit=last_digit\n",
        "        self.labels = labels\n",
        "\n",
        "        self.box_size = None\n",
        "        self.boxes = []\n",
        "        self.paths = []\n",
        "\n",
        "\n",
        "\n",
        "    def get_bounding_box_dummy(self):\n",
        "        \"\"\"\n",
        "        Use this method to get bounding boxes and extract numbers by dividing the area in 4 equal parts (\"dummy\" yet efficient approach).\n",
        "        \"\"\"\n",
        "\n",
        "        self.boxes = []\n",
        "        self.box_size = self.image.shape[1]/6\n",
        "\n",
        "        for i in range(self.last_digit):\n",
        "            inf = i * self.box_size\n",
        "            sup = (i+1) * self.box_size\n",
        "            self.boxes += [self.image[:, int(inf):int(sup)]]\n",
        "\n",
        "        return self.boxes\n",
        "\n",
        "\n",
        "    def save_to_folder(self) :\n",
        "        \"\"\"\n",
        "        Use this method to save the extracted bounding boxes.\n",
        "        \"\"\"\n",
        "        if self.dst_folder_name is None :\n",
        "            return\n",
        "\n",
        "        for i in range(len(self.boxes)):\n",
        "            if self.labels :\n",
        "                box = self.boxes[i]\n",
        "                label = self.labels[i]\n",
        "                src_file_name = self.src_file_name.split('/')[-1].split('.')[0]\n",
        "                dst_file_name = 'Datasets_digits/%s/%s_%s.jpg' % (label, src_file_name, str(i))\n",
        "                self.paths.append(dst_file_name)\n",
        "                cv2.imwrite(dst_file_name, box)\n",
        "                \n",
        "            else:\n",
        "                pass\n",
        "\n",
        "            #else :\n",
        "          #      box = self.boxes[i]\n",
        "           #     src_file_name = self.src_file_name.split('/')[-1].split('.')[0]\n",
        "            #    dst_file_name = 'Datasets_digits/%s/%s_%s.jpg' % ('missing_label', src_file_name, str(i))\n",
        "            #    cv2.imwrite(dst_file_name, box)\n",
        "\n",
        "    def get_paths(self):\n",
        "        return self.paths\n",
        "\n",
        "# --------------------- End of the class -----------------------------------"
      ],
      "execution_count": null,
      "outputs": []
    },
    {
      "cell_type": "code",
      "metadata": {
        "id": "fo8jVK91GEjE"
      },
      "source": [
        "#Artifical Neural Network Architecture\n",
        "class ANNClassifier(nn.Module):\n",
        "    def __init__(self):\n",
        "        super(ANNClassifier, self).__init__()\n",
        "        self.fc1 = nn.Linear(256 * 4 * 7, 32)\n",
        "        self.fc2 = nn.Linear(32, 10)\n",
        "\n",
        "    def forward(self, x):\n",
        "        x = x.view(-1, 256 * 4 * 7) #flatten feature data\n",
        "        x = F.relu(self.fc1(x))\n",
        "        x = self.fc2(x)\n",
        "        return x\n",
        "\n",
        "def OCR(img_path):\n",
        "    print(\"Original Image: \")\n",
        "    img = Image.open(img_path)\n",
        "    plt.imshow(img)\n",
        "    plt.show()\n",
        "    labels = ['10','10', '10', '10', '10','10'] # label 10 refers to unknown label\n",
        "\n",
        "    if os.path.exists('Datasets_frames/'):\n",
        "        shutil.rmtree('Datasets_frames/')\n",
        "        os.makedirs('Datasets_frames/')\n",
        "    else:\n",
        "        os.makedirs('Datasets_frames/')\n",
        "\n",
        "    DATA_SAVE_PATH = \"/content/Datasets_digits/\"\n",
        "    if not os.path.isdir(DATA_SAVE_PATH):\n",
        "        print(\"Path \", DATA_SAVE_PATH, \"has not formed\")\n",
        "        os.mkdir(DATA_SAVE_PATH)\n",
        "\n",
        "    for i in range(11):\n",
        "        if not os.path.isdir(DATA_SAVE_PATH + str(i) +'/'):\n",
        "            print(\"Path \", DATA_SAVE_PATH+ str(i) +'/', \"has not formed\")\n",
        "            os.mkdir(DATA_SAVE_PATH+ str(i) +'/')\n",
        "\n",
        "    fail = [0, 0, 0]\n",
        "    print(\"Screen Extract:\")\n",
        "    # Extract the screen\n",
        "    for file in glob.glob(img_path):  \n",
        "        try:\n",
        "            f = frameExtractor(image=None,\n",
        "                               src_file_name=file,\n",
        "                               dst_file_name='Datasets_frames/' + str(file).split('/')[-1],\n",
        "                               return_image=False,\n",
        "                               output_shape=(400, 100))\n",
        "            f.extractAndSaveFrame()\n",
        "        except:\n",
        "            fail[0] += 1\n",
        "\n",
        "    print(\"Screen reading splitted into digits:\")\n",
        "    df = cv2.imread(img_path)\n",
        "    for i in range(1):\n",
        "        file_name = 'digits_'\n",
        "        src_file_name = \"Datasets_frames/%s\" % file_name\n",
        "\n",
        "        try :\n",
        "            cutter = cutDigits(src_file_name=\"/content/Datasets_frames/img1.jpg\", labels=labels)\n",
        "            \n",
        "            images_x = cutter.get_bounding_box_dummy()\n",
        "            cutter.save_to_folder()\n",
        "            paths = cutter.get_paths()\n",
        "\n",
        "            for img in images_x:\n",
        "                cv2_imshow(img)\n",
        "\n",
        "        except :\n",
        "            fail[1] += 1\n",
        "\n",
        "    model_path = \"/content/gdrive/MyDrive/img/model/model_2.pth\"\n",
        "    transform = transforms.Compose([transforms.Resize((180, 256)), \n",
        "                                  transforms.ToTensor()])\n",
        "    \n",
        "    print(\"Digit Recognition:\")\n",
        "    img = Image.open(\"/content/Datasets_frames/img1.jpg\")\n",
        "    plt.imshow(img)\n",
        "    plt.show()\n",
        "    \n",
        "    alexNet = torchvision.models.alexnet(pretrained=True)\n",
        "    \n",
        "    ALNC = alexNet.features\n",
        "    ALNC.cuda()\n",
        "\n",
        "    model = ANNClassifier()\n",
        "    model.load_state_dict(torch.load(model_path))\n",
        "    model.eval()\n",
        "    model.cuda()\n",
        "\n",
        "    labels = []\n",
        "    reading = 0\n",
        "\n",
        "    for p in paths:\n",
        "        img = Image.open(p)\n",
        "\n",
        "        img = transform(img)\n",
        "        img = torch.unsqueeze(img, 0)\n",
        "\n",
        "        output_p = model(ALNC(img.cuda()))\n",
        "                \n",
        "        #select index with maximum prediction score\n",
        "        pred_p = output_p.max(1, keepdim=True)[1]\n",
        "        labels.append(pred_p[0].item())\n",
        "        reading = reading * 10 + int(pred_p[0].item())\n",
        "\n",
        "    print(\"label =\", labels)\n",
        "    print(\"reading =\",reading)\n",
        "\n",
        "\n",
        "    "
      ],
      "execution_count": null,
      "outputs": []
    },
    {
      "cell_type": "code",
      "metadata": {
        "colab": {
          "base_uri": "https://localhost:8080/",
          "height": 1000,
          "referenced_widgets": [
            "f9340d3f8d184aa78e4aac88dcea5a84",
            "d3c3b97080d8400da0a63bb5d41446aa",
            "6104abb418074dec80d3e4531e997ce3",
            "7ae57a871cad408184ec41d829e48720",
            "00bbd2f7d0284b67823eb0728b0d4026",
            "b264895935f34794bda111c43603fff4",
            "6f75c51e85784273a4c58b79ce6250e8",
            "e6bb2a9e549c42bcbc5e0d80400882a9",
            "8f4bff4c968e4b6a8532b565270a6e9a",
            "3bf7d4c46c224366821318da2f23698c",
            "4de745cd73114a35b84fad502d9d0d82"
          ]
        },
        "id": "lU0XNsFYGIxL",
        "outputId": "0f51a71f-5cd8-4f3c-ecf8-0ee5e2e6c497"
      },
      "source": [
        "OCR('/content/gdrive/MyDrive/img/img1.jpg')"
      ],
      "execution_count": null,
      "outputs": [
        {
          "output_type": "stream",
          "name": "stdout",
          "text": [
            "Original Image: \n"
          ]
        },
        {
          "output_type": "display_data",
          "data": {
            "image/png": "[encoded data removed]",
            "text/plain": [
              "<Figure size 432x288 with 1 Axes>"
            ]
          },
          "metadata": {
            "needs_background": "light"
          }
        },
        {
          "output_type": "stream",
          "name": "stdout",
          "text": [
            "Path  /content/Datasets_digits/ has not formed\n",
            "Path  /content/Datasets_digits/0/ has not formed\n",
            "Path  /content/Datasets_digits/1/ has not formed\n",
            "Path  /content/Datasets_digits/2/ has not formed\n",
            "Path  /content/Datasets_digits/3/ has not formed\n",
            "Path  /content/Datasets_digits/4/ has not formed\n",
            "Path  /content/Datasets_digits/5/ has not formed\n",
            "Path  /content/Datasets_digits/6/ has not formed\n",
            "Path  /content/Datasets_digits/7/ has not formed\n",
            "Path  /content/Datasets_digits/8/ has not formed\n",
            "Path  /content/Datasets_digits/9/ has not formed\n",
            "Path  /content/Datasets_digits/10/ has not formed\n",
            "Screen Extract:\n",
            "[[135 116]\n",
            " [491 116]\n",
            " [491 256]\n",
            " [135 256]]\n"
          ]
        },
        {
          "output_type": "display_data",
          "data": {
            "image/png": "[encoded data removed]",
            "text/plain": [
              "<PIL.Image.Image image mode=L size=400x100 at 0x7F4D24234310>"
            ]
          },
          "metadata": {}
        },
        {
          "output_type": "display_data",
          "data": {
            "image/png": "[encoded data removed]",
            "text/plain": [
              "<PIL.Image.Image image mode=L size=296x59 at 0x7F4D24234850>"
            ]
          },
          "metadata": {}
        },
        {
          "output_type": "stream",
          "name": "stdout",
          "text": [
            "Screen reading splitted into digits:\n"
          ]
        },
        {
          "output_type": "display_data",
          "data": {
            "image/png": "[encoded data removed]",
            "text/plain": [
              "<PIL.Image.Image image mode=RGB size=49x59 at 0x7F4D2478E710>"
            ]
          },
          "metadata": {}
        },
        {
          "output_type": "display_data",
          "data": {
            "image/png": "[encoded data removed]",
            "text/plain": [
              "<PIL.Image.Image image mode=RGB size=49x59 at 0x7F4D24234110>"
            ]
          },
          "metadata": {}
        },
        {
          "output_type": "display_data",
          "data": {
            "image/png": "[encoded data removed]",
            "text/plain": [
              "<PIL.Image.Image image mode=RGB size=50x59 at 0x7F4D24234D90>"
            ]
          },
          "metadata": {}
        },
        {
          "output_type": "display_data",
          "data": {
            "image/png": "[encoded data removed]",
            "text/plain": [
              "<PIL.Image.Image image mode=RGB size=49x59 at 0x7F4D24234F10>"
            ]
          },
          "metadata": {}
        },
        {
          "output_type": "display_data",
          "data": {
            "image/png": "[encoded data removed]",
            "text/plain": [
              "<PIL.Image.Image image mode=RGB size=49x59 at 0x7F4D2478E710>"
            ]
          },
          "metadata": {}
        },
        {
          "output_type": "display_data",
          "data": {
            "image/png": "[encoded data removed]",
            "text/plain": [
              "<PIL.Image.Image image mode=RGB size=50x59 at 0x7F4D2479CB50>"
            ]
          },
          "metadata": {}
        },
        {
          "output_type": "stream",
          "name": "stdout",
          "text": [
            "Digit Recognition:\n"
          ]
        },
        {
          "output_type": "display_data",
          "data": {
            "image/png": "[encoded data removed]",
            "text/plain": [
              "<Figure size 432x288 with 1 Axes>"
            ]
          },
          "metadata": {
            "needs_background": "light"
          }
        },
        {
          "output_type": "stream",
          "name": "stderr",
          "text": [
            "Downloading: \"https://download.pytorch.org/models/alexnet-owt-7be5be79.pth\" to /root/.cache/torch/hub/checkpoints/alexnet-owt-7be5be79.pth\n"
          ]
        },
        {
          "output_type": "display_data",
          "data": {
            "application/vnd.jupyter.widget-view+json": {
              "model_id": "f9340d3f8d184aa78e4aac88dcea5a84",
              "version_minor": 0,
              "version_major": 2
            },
            "text/plain": [
              "  0%|          | 0.00/233M [00:00<?, ?B/s]"
            ]
          },
          "metadata": {}
        },
        {
          "output_type": "stream",
          "name": "stdout",
          "text": [
            "label = [0, 9, 3, 5, 9, 2]\n",
            "reading = 93592\n"
          ]
        }
      ]
    }
  ]
}